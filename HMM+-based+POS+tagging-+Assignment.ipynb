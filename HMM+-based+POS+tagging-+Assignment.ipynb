{
 "cells": [
  {
   "cell_type": "code",
   "execution_count": 1,
   "metadata": {},
   "outputs": [],
   "source": [
    "## POS tagging using modified Viterbi"
   ]
  },
  {
   "cell_type": "markdown",
   "metadata": {},
   "source": [
    "#### Write the vanilla Viterbi algorithm for assigning POS tags (i.e. without dealing with unknown words) \n",
    "#### Solve the problem of unknown words using at least two techniques.\n",
    "#### These techniques can use any of the approaches discussed in the class - lexicon, rule-based, probabilistic etc. Note that to implement these techniques, you can either write separate functions and call them from the main Viterbi algorithm, or modify the Viterbi algorithm, or both.\n",
    "#### Compare the tagging accuracy after making these modifications with the vanilla Viterbi algorithm.\n",
    "#### List down at least three cases from the sample test file (i.e. unknown word-tag pairs) which were incorrectly tagged by the original Viterbi POS tagger and got corrected after your modifications."
   ]
  },
  {
   "cell_type": "markdown",
   "metadata": {},
   "source": [
    "### Data Preparation"
   ]
  },
  {
   "cell_type": "code",
   "execution_count": 2,
   "metadata": {},
   "outputs": [],
   "source": [
    "#Importing libraries\n",
    "import nltk\n",
    "import numpy as np\n",
    "import pandas as pd\n",
    "import random\n",
    "from sklearn.model_selection import train_test_split\n",
    "import pprint, time\n",
    "import matplotlib.pyplot as plt\n",
    "import seaborn as sns\n",
    "import codecs\n",
    "from nltk.tokenize import word_tokenize"
   ]
  },
  {
   "cell_type": "code",
   "execution_count": 3,
   "metadata": {},
   "outputs": [],
   "source": [
    "# reading the Treebank tagged sentences\n",
    "nltk_data = list(nltk.corpus.treebank.tagged_sents(tagset='universal'))"
   ]
  },
  {
   "cell_type": "code",
   "execution_count": 4,
   "metadata": {},
   "outputs": [
    {
     "name": "stdout",
     "output_type": "stream",
     "text": [
      "[[('Pierre', 'NOUN'), ('Vinken', 'NOUN'), (',', '.'), ('61', 'NUM'), ('years', 'NOUN'), ('old', 'ADJ'), (',', '.'), ('will', 'VERB'), ('join', 'VERB'), ('the', 'DET'), ('board', 'NOUN'), ('as', 'ADP'), ('a', 'DET'), ('nonexecutive', 'ADJ'), ('director', 'NOUN'), ('Nov.', 'NOUN'), ('29', 'NUM'), ('.', '.')], [('Mr.', 'NOUN'), ('Vinken', 'NOUN'), ('is', 'VERB'), ('chairman', 'NOUN'), ('of', 'ADP'), ('Elsevier', 'NOUN'), ('N.V.', 'NOUN'), (',', '.'), ('the', 'DET'), ('Dutch', 'NOUN'), ('publishing', 'VERB'), ('group', 'NOUN'), ('.', '.')], [('Rudolph', 'NOUN'), ('Agnew', 'NOUN'), (',', '.'), ('55', 'NUM'), ('years', 'NOUN'), ('old', 'ADJ'), ('and', 'CONJ'), ('former', 'ADJ'), ('chairman', 'NOUN'), ('of', 'ADP'), ('Consolidated', 'NOUN'), ('Gold', 'NOUN'), ('Fields', 'NOUN'), ('PLC', 'NOUN'), (',', '.'), ('was', 'VERB'), ('named', 'VERB'), ('*-1', 'X'), ('a', 'DET'), ('nonexecutive', 'ADJ'), ('director', 'NOUN'), ('of', 'ADP'), ('this', 'DET'), ('British', 'ADJ'), ('industrial', 'ADJ'), ('conglomerate', 'NOUN'), ('.', '.')], [('A', 'DET'), ('form', 'NOUN'), ('of', 'ADP'), ('asbestos', 'NOUN'), ('once', 'ADV'), ('used', 'VERB'), ('*', 'X'), ('*', 'X'), ('to', 'PRT'), ('make', 'VERB'), ('Kent', 'NOUN'), ('cigarette', 'NOUN'), ('filters', 'NOUN'), ('has', 'VERB'), ('caused', 'VERB'), ('a', 'DET'), ('high', 'ADJ'), ('percentage', 'NOUN'), ('of', 'ADP'), ('cancer', 'NOUN'), ('deaths', 'NOUN'), ('among', 'ADP'), ('a', 'DET'), ('group', 'NOUN'), ('of', 'ADP'), ('workers', 'NOUN'), ('exposed', 'VERB'), ('*', 'X'), ('to', 'PRT'), ('it', 'PRON'), ('more', 'ADV'), ('than', 'ADP'), ('30', 'NUM'), ('years', 'NOUN'), ('ago', 'ADP'), (',', '.'), ('researchers', 'NOUN'), ('reported', 'VERB'), ('0', 'X'), ('*T*-1', 'X'), ('.', '.')]]\n"
     ]
    }
   ],
   "source": [
    "# first four tagged sentences\n",
    "print(nltk_data[:4])"
   ]
  },
  {
   "cell_type": "code",
   "execution_count": 5,
   "metadata": {},
   "outputs": [
    {
     "name": "stdout",
     "output_type": "stream",
     "text": [
      "3718\n",
      "196\n",
      "[[('Diamond', 'NOUN'), ('Creek', 'NOUN'), ('1985', 'NUM'), ('Lake', 'NOUN'), ('Vineyard', 'NOUN'), ('Cabernet', 'NOUN'), ('weighed', 'VERB'), ('in', 'PRT'), ('this', 'DET'), ('fall', 'NOUN'), ('with', 'ADP'), ('a', 'DET'), ('sticker', 'NOUN'), ('price', 'NOUN'), ('of', 'ADP'), ('$', '.'), ('100', 'NUM'), ('*U*', 'X'), ('a', 'DET'), ('bottle', 'NOUN'), ('.', '.')], [('The', 'DET'), ('tension', 'NOUN'), ('was', 'VERB'), ('evident', 'ADJ'), ('on', 'ADP'), ('Wednesday', 'NOUN'), ('evening', 'NOUN'), ('during', 'ADP'), ('Mr.', 'NOUN'), ('Nixon', 'NOUN'), (\"'s\", 'PRT'), ('final', 'ADJ'), ('banquet', 'NOUN'), ('toast', 'NOUN'), (',', '.'), ('normally', 'ADV'), ('an', 'DET'), ('opportunity', 'NOUN'), ('for', 'ADP'), ('*', 'X'), ('reciting', 'VERB'), ('platitudes', 'NOUN'), ('about', 'ADP'), ('eternal', 'ADJ'), ('friendship', 'NOUN'), ('.', '.')], [('The', 'DET'), ('statistics', 'NOUN'), ('imply', 'VERB'), ('that', 'ADP'), ('three-quarters', 'NOUN'), ('of', 'ADP'), ('blacks', 'NOUN'), ('approve', 'VERB'), ('of', 'ADP'), ('Mr.', 'NOUN'), ('Bush', 'NOUN'), (\"'s\", 'PRT'), ('job', 'NOUN'), ('performance', 'NOUN'), ('and', 'CONJ'), ('85', 'NUM'), ('%', 'NOUN'), ('of', 'ADP'), ('blacks', 'NOUN'), ('approve', 'VERB'), ('of', 'ADP'), ('Mrs.', 'NOUN'), ('Bush', 'NOUN'), ('.', '.')], [('``', '.'), ('Wa', 'NOUN'), (\"''\", '.'), ('is', 'VERB'), ('Japanese', 'NOUN'), ('for', 'ADP'), ('``', '.'), ('team', 'NOUN'), ('spirit', 'NOUN'), (\"''\", '.'), ('and', 'CONJ'), ('Japanese', 'ADJ'), ('ballplayers', 'NOUN'), ('have', 'VERB'), ('miles', 'NOUN'), ('and', 'CONJ'), ('miles', 'NOUN'), ('of', 'ADP'), ('it', 'PRON'), ('.', '.')]]\n"
     ]
    }
   ],
   "source": [
    "# Splitting into train and test.As mentioned splitting them into 95% train data and 5 % test data\n",
    "random.seed(1234)\n",
    "train_set, test_set = train_test_split(nltk_data,train_size=0.95)\n",
    "\n",
    "print(len(train_set))\n",
    "print(len(test_set))\n",
    "print(train_set[:4])"
   ]
  },
  {
   "cell_type": "code",
   "execution_count": 6,
   "metadata": {},
   "outputs": [
    {
     "data": {
      "text/plain": [
       "95570"
      ]
     },
     "execution_count": 6,
     "metadata": {},
     "output_type": "execute_result"
    }
   ],
   "source": [
    "\n",
    "# Getting list of tagged words in training set\n",
    "train_tagged_words = [tup for sent in train_set for tup in sent]\n",
    "#Get the length of the total tagged words in training set\n",
    "len(train_tagged_words)"
   ]
  },
  {
   "cell_type": "code",
   "execution_count": 7,
   "metadata": {},
   "outputs": [
    {
     "data": {
      "text/plain": [
       "['Diamond',\n",
       " 'Creek',\n",
       " '1985',\n",
       " 'Lake',\n",
       " 'Vineyard',\n",
       " 'Cabernet',\n",
       " 'weighed',\n",
       " 'in',\n",
       " 'this',\n",
       " 'fall',\n",
       " 'with',\n",
       " 'a',\n",
       " 'sticker',\n",
       " 'price',\n",
       " 'of',\n",
       " '$',\n",
       " '100',\n",
       " '*U*',\n",
       " 'a',\n",
       " 'bottle']"
      ]
     },
     "execution_count": 7,
     "metadata": {},
     "output_type": "execute_result"
    }
   ],
   "source": [
    "\n",
    "# View the first 10 tokens/words in the training set\n",
    "tokens = [pair[0] for pair in train_tagged_words]\n",
    "tokens[:20]"
   ]
  },
  {
   "cell_type": "markdown",
   "metadata": {},
   "source": [
    "##  POS Tagging Algorithm - HMM\n",
    "\n",
    "We'll use the HMM algorithm to tag the words. Given a sequence of words to be tagged, the task is to assign the most probable tag to the word. \n",
    "\n",
    "In other words, to every word w, assign the tag t that maximises the likelihood P(t/w). Since P(t/w) = P(w/t). P(t) / P(w), after ignoring P(w), we have to compute P(w/t) and P(t).\n",
    "\n",
    "\n",
    "P(w/t) is basically the probability that given a tag (say NN), what is the probability of it being w (say 'building'). This can be computed by computing the fraction of all NNs which are equal to w, i.e. \n",
    "\n",
    "P(w/t) = count(w, t) / count(t). \n",
    "\n",
    "\n",
    "The term P(t) is the probability of tag t, and in a tagging task, we assume that a tag will depend only on the previous tag. In other words, the probability of a tag being NN will depend only on the previous tag t(n-1). So for e.g. if t(n-1) is a JJ, then t(n) is likely to be an NN since adjectives often precede a noun (blue coat, tall building etc.).\n",
    "\n",
    "\n",
    "Given the penn treebank tagged dataset, we can compute the two terms P(w/t) and P(t) and store them in two large matrices. The matrix of P(w/t) will be sparse, since each word will not be seen with most tags ever, and those terms will thus be zero. "
   ]
  },
  {
   "cell_type": "markdown",
   "metadata": {},
   "source": [
    "### Emission Probabilities"
   ]
  },
  {
   "cell_type": "code",
   "execution_count": 8,
   "metadata": {},
   "outputs": [
    {
     "name": "stdout",
     "output_type": "stream",
     "text": [
      "12023\n"
     ]
    }
   ],
   "source": [
    "\n",
    "# Get the total unique words in the training set\n",
    "V = set(tokens)\n",
    "print(len(V))"
   ]
  },
  {
   "cell_type": "code",
   "execution_count": 9,
   "metadata": {},
   "outputs": [
    {
     "name": "stdout",
     "output_type": "stream",
     "text": [
      "12\n",
      "{'ADV', 'PRON', '.', 'NUM', 'VERB', 'X', 'DET', 'ADJ', 'CONJ', 'NOUN', 'PRT', 'ADP'}\n"
     ]
    }
   ],
   "source": [
    "# number of pos tags in the training corpus\n",
    "T = set([pair[1] for pair in train_tagged_words])\n",
    "print(len(T))\n",
    "print(T)"
   ]
  },
  {
   "cell_type": "code",
   "execution_count": 10,
   "metadata": {},
   "outputs": [],
   "source": [
    "# computing P(w/t) and storing in T x V matrix\n",
    "t = len(T)\n",
    "v = len(V)\n",
    "w_given_t = np.zeros((t, v))"
   ]
  },
  {
   "cell_type": "code",
   "execution_count": 11,
   "metadata": {},
   "outputs": [],
   "source": [
    "\n",
    "# compute word given tag: Emission Probability\n",
    "def word_given_tag(word, tag, train_bag = train_tagged_words):\n",
    "    tag_list = [pair for pair in train_bag if pair[1]==tag]\n",
    "    count_tag = len(tag_list)\n",
    "    w_given_tag_list = [pair[0] for pair in tag_list if pair[0]==word]\n",
    "    count_w_given_tag = len(w_given_tag_list)\n",
    "    \n",
    "    return (count_w_given_tag, count_tag)"
   ]
  },
  {
   "cell_type": "code",
   "execution_count": 12,
   "metadata": {},
   "outputs": [
    {
     "name": "stdout",
     "output_type": "stream",
     "text": [
      "\n",
      " large\n",
      "(28, 6073)\n",
      "(0, 12873)\n",
      "(0, 27417) \n",
      "\n",
      "\n",
      " will\n",
      "(0, 6073)\n",
      "(1, 27417)\n",
      "(262, 12873)\n",
      "\n",
      " book\n",
      "(7, 27417)\n",
      "(0, 12873)\n"
     ]
    }
   ],
   "source": [
    "# examples\n",
    "\n",
    "# large\n",
    "print(\"\\n\", \"large\")\n",
    "print(word_given_tag('large', 'ADJ'))\n",
    "print(word_given_tag('large', 'VERB'))\n",
    "print(word_given_tag('large', 'NOUN'), \"\\n\")\n",
    "\n",
    "# will\n",
    "print(\"\\n\", \"will\")\n",
    "print(word_given_tag('will', 'ADJ'))\n",
    "print(word_given_tag('will', 'NOUN'))\n",
    "print(word_given_tag('will', 'VERB'))\n",
    "\n",
    "# book\n",
    "print(\"\\n\", \"book\")\n",
    "print(word_given_tag('book', 'NOUN'))\n",
    "print(word_given_tag('book', 'VERB'))"
   ]
  },
  {
   "cell_type": "code",
   "execution_count": 13,
   "metadata": {},
   "outputs": [],
   "source": [
    "\n",
    "# compute tag given tag: tag2(t2) given tag1 (t1), i.e. Transition Probability\n",
    "\n",
    "def t2_given_t1(t2, t1, train_bag = train_tagged_words):\n",
    "    tags = [pair[1] for pair in train_bag]\n",
    "    count_t1 = len([t for t in tags if t==t1])\n",
    "    count_t2_t1 = 0\n",
    "    for index in range(len(tags)-1):\n",
    "        if tags[index]==t1 and tags[index+1] == t2:\n",
    "            count_t2_t1 += 1\n",
    "    return (count_t2_t1, count_t1)"
   ]
  },
  {
   "cell_type": "code",
   "execution_count": 14,
   "metadata": {},
   "outputs": [],
   "source": [
    "# creating t x t transition matrix of tags\n",
    "# each column is t2, each row is t1\n",
    "# thus M(i, j) represents P(tj given ti)\n",
    "\n",
    "tags_matrix = np.zeros((len(T), len(T)), dtype='float32')\n",
    "for i, t1 in enumerate(list(T)):\n",
    "    for j, t2 in enumerate(list(T)): \n",
    "        tags_matrix[i, j] = t2_given_t1(t2, t1)[0]/t2_given_t1(t2, t1)[1]"
   ]
  },
  {
   "cell_type": "code",
   "execution_count": 15,
   "metadata": {},
   "outputs": [
    {
     "data": {
      "text/plain": [
       "array([[7.85619169e-02, 1.53129157e-02, 1.34154454e-01, 3.19573916e-02,\n",
       "        3.47536623e-01, 2.29693744e-02, 6.79094568e-02, 1.29494011e-01,\n",
       "        7.32356869e-03, 3.16244997e-02, 1.43142473e-02, 1.18841544e-01],\n",
       "       [3.41388583e-02, 7.67165329e-03, 3.98925953e-02, 7.67165329e-03,\n",
       "        4.84081328e-01, 9.35941711e-02, 9.97314882e-03, 7.47986212e-02,\n",
       "        5.37015731e-03, 2.08668962e-01, 1.15074795e-02, 2.26313770e-02],\n",
       "       [5.25128581e-02, 6.59568682e-02, 9.29351225e-02, 8.04836228e-02,\n",
       "        8.93259943e-02, 2.67977975e-02, 1.76215827e-01, 4.49336804e-02,\n",
       "        5.82874678e-02, 2.19886318e-01, 2.52639176e-03, 9.00478214e-02],\n",
       "       [2.66429852e-03, 1.48016575e-03, 1.15748964e-01, 1.87092960e-01,\n",
       "        1.65778566e-02, 2.10183546e-01, 3.25636473e-03, 3.16755474e-02,\n",
       "        1.30254589e-02, 3.55535805e-01, 2.75310837e-02, 3.52279469e-02],\n",
       "       [8.19544792e-02, 3.55006605e-02, 3.44907939e-02, 2.31492277e-02,\n",
       "        1.68181464e-01, 2.17587203e-01, 1.35244310e-01, 6.47090822e-02,\n",
       "        5.12700994e-03, 1.11007534e-01, 3.12281512e-02, 9.18200910e-02],\n",
       "       [2.61188094e-02, 5.57413585e-02, 1.61331415e-01, 2.86669843e-03,\n",
       "        2.05446720e-01, 7.50119463e-02, 5.46265319e-02, 1.67224072e-02,\n",
       "        1.00334445e-02, 6.22710623e-02, 1.85539097e-01, 1.44290492e-01],\n",
       "       [1.27664702e-02, 3.73359025e-03, 1.75840054e-02, 2.19197888e-02,\n",
       "        3.92629169e-02, 4.64892201e-02, 5.54016605e-03, 2.05588341e-01,\n",
       "        4.81753581e-04, 6.37119114e-01, 2.40876790e-04, 9.27375630e-03],\n",
       "       [4.61057154e-03, 6.58653036e-04, 6.47126660e-02, 2.07475703e-02,\n",
       "        1.21850818e-02, 2.07475703e-02, 4.61057154e-03, 6.66886196e-02,\n",
       "        1.67956520e-02, 6.98501587e-01, 1.10324388e-02, 7.87090436e-02],\n",
       "       [5.50116561e-02, 6.01398610e-02, 3.54312360e-02, 4.05594409e-02,\n",
       "        1.51981354e-01, 8.85780901e-03, 1.19813517e-01, 1.17948718e-01,\n",
       "        4.66200465e-04, 3.50582749e-01, 5.12820529e-03, 5.40792532e-02],\n",
       "       [1.68508589e-02, 4.77805734e-03, 2.39741772e-01, 9.62906238e-03,\n",
       "        1.47062048e-01, 2.89236605e-02, 1.33129079e-02, 1.22916438e-02,\n",
       "        4.26013060e-02, 2.64543891e-01, 4.36225682e-02, 1.76642224e-01],\n",
       "       [1.01439795e-02, 1.76701564e-02, 4.18848172e-02, 5.79188466e-02,\n",
       "        4.02814150e-01, 1.30890049e-02, 1.00785337e-01, 8.60602111e-02,\n",
       "        2.29057600e-03, 2.45091617e-01, 1.63612561e-03, 2.06151828e-02],\n",
       "       [1.32591957e-02, 6.93969205e-02, 4.08468768e-02, 6.26603961e-02,\n",
       "        8.23353324e-03, 3.45380679e-02, 3.23032498e-01, 1.04897350e-01,\n",
       "        8.55432008e-04, 3.24315667e-01, 1.49700604e-03, 1.64670665e-02]],\n",
       "      dtype=float32)"
      ]
     },
     "execution_count": 15,
     "metadata": {},
     "output_type": "execute_result"
    }
   ],
   "source": [
    "tags_matrix"
   ]
  },
  {
   "cell_type": "code",
   "execution_count": 16,
   "metadata": {},
   "outputs": [],
   "source": [
    "# convert the matrix to a df for better readability\n",
    "tags_df = pd.DataFrame(tags_matrix, columns = list(T), index=list(T))"
   ]
  },
  {
   "cell_type": "code",
   "execution_count": 17,
   "metadata": {},
   "outputs": [
    {
     "data": {
      "text/html": [
       "<div>\n",
       "<style scoped>\n",
       "    .dataframe tbody tr th:only-of-type {\n",
       "        vertical-align: middle;\n",
       "    }\n",
       "\n",
       "    .dataframe tbody tr th {\n",
       "        vertical-align: top;\n",
       "    }\n",
       "\n",
       "    .dataframe thead th {\n",
       "        text-align: right;\n",
       "    }\n",
       "</style>\n",
       "<table border=\"1\" class=\"dataframe\">\n",
       "  <thead>\n",
       "    <tr style=\"text-align: right;\">\n",
       "      <th></th>\n",
       "      <th>ADV</th>\n",
       "      <th>PRON</th>\n",
       "      <th>.</th>\n",
       "      <th>NUM</th>\n",
       "      <th>VERB</th>\n",
       "      <th>X</th>\n",
       "      <th>DET</th>\n",
       "      <th>ADJ</th>\n",
       "      <th>CONJ</th>\n",
       "      <th>NOUN</th>\n",
       "      <th>PRT</th>\n",
       "      <th>ADP</th>\n",
       "    </tr>\n",
       "  </thead>\n",
       "  <tbody>\n",
       "    <tr>\n",
       "      <td>ADV</td>\n",
       "      <td>0.078562</td>\n",
       "      <td>0.015313</td>\n",
       "      <td>0.134154</td>\n",
       "      <td>0.031957</td>\n",
       "      <td>0.347537</td>\n",
       "      <td>0.022969</td>\n",
       "      <td>0.067909</td>\n",
       "      <td>0.129494</td>\n",
       "      <td>0.007324</td>\n",
       "      <td>0.031624</td>\n",
       "      <td>0.014314</td>\n",
       "      <td>0.118842</td>\n",
       "    </tr>\n",
       "    <tr>\n",
       "      <td>PRON</td>\n",
       "      <td>0.034139</td>\n",
       "      <td>0.007672</td>\n",
       "      <td>0.039893</td>\n",
       "      <td>0.007672</td>\n",
       "      <td>0.484081</td>\n",
       "      <td>0.093594</td>\n",
       "      <td>0.009973</td>\n",
       "      <td>0.074799</td>\n",
       "      <td>0.005370</td>\n",
       "      <td>0.208669</td>\n",
       "      <td>0.011507</td>\n",
       "      <td>0.022631</td>\n",
       "    </tr>\n",
       "    <tr>\n",
       "      <td>.</td>\n",
       "      <td>0.052513</td>\n",
       "      <td>0.065957</td>\n",
       "      <td>0.092935</td>\n",
       "      <td>0.080484</td>\n",
       "      <td>0.089326</td>\n",
       "      <td>0.026798</td>\n",
       "      <td>0.176216</td>\n",
       "      <td>0.044934</td>\n",
       "      <td>0.058287</td>\n",
       "      <td>0.219886</td>\n",
       "      <td>0.002526</td>\n",
       "      <td>0.090048</td>\n",
       "    </tr>\n",
       "    <tr>\n",
       "      <td>NUM</td>\n",
       "      <td>0.002664</td>\n",
       "      <td>0.001480</td>\n",
       "      <td>0.115749</td>\n",
       "      <td>0.187093</td>\n",
       "      <td>0.016578</td>\n",
       "      <td>0.210184</td>\n",
       "      <td>0.003256</td>\n",
       "      <td>0.031676</td>\n",
       "      <td>0.013025</td>\n",
       "      <td>0.355536</td>\n",
       "      <td>0.027531</td>\n",
       "      <td>0.035228</td>\n",
       "    </tr>\n",
       "    <tr>\n",
       "      <td>VERB</td>\n",
       "      <td>0.081954</td>\n",
       "      <td>0.035501</td>\n",
       "      <td>0.034491</td>\n",
       "      <td>0.023149</td>\n",
       "      <td>0.168181</td>\n",
       "      <td>0.217587</td>\n",
       "      <td>0.135244</td>\n",
       "      <td>0.064709</td>\n",
       "      <td>0.005127</td>\n",
       "      <td>0.111008</td>\n",
       "      <td>0.031228</td>\n",
       "      <td>0.091820</td>\n",
       "    </tr>\n",
       "    <tr>\n",
       "      <td>X</td>\n",
       "      <td>0.026119</td>\n",
       "      <td>0.055741</td>\n",
       "      <td>0.161331</td>\n",
       "      <td>0.002867</td>\n",
       "      <td>0.205447</td>\n",
       "      <td>0.075012</td>\n",
       "      <td>0.054627</td>\n",
       "      <td>0.016722</td>\n",
       "      <td>0.010033</td>\n",
       "      <td>0.062271</td>\n",
       "      <td>0.185539</td>\n",
       "      <td>0.144290</td>\n",
       "    </tr>\n",
       "    <tr>\n",
       "      <td>DET</td>\n",
       "      <td>0.012766</td>\n",
       "      <td>0.003734</td>\n",
       "      <td>0.017584</td>\n",
       "      <td>0.021920</td>\n",
       "      <td>0.039263</td>\n",
       "      <td>0.046489</td>\n",
       "      <td>0.005540</td>\n",
       "      <td>0.205588</td>\n",
       "      <td>0.000482</td>\n",
       "      <td>0.637119</td>\n",
       "      <td>0.000241</td>\n",
       "      <td>0.009274</td>\n",
       "    </tr>\n",
       "    <tr>\n",
       "      <td>ADJ</td>\n",
       "      <td>0.004611</td>\n",
       "      <td>0.000659</td>\n",
       "      <td>0.064713</td>\n",
       "      <td>0.020748</td>\n",
       "      <td>0.012185</td>\n",
       "      <td>0.020748</td>\n",
       "      <td>0.004611</td>\n",
       "      <td>0.066689</td>\n",
       "      <td>0.016796</td>\n",
       "      <td>0.698502</td>\n",
       "      <td>0.011032</td>\n",
       "      <td>0.078709</td>\n",
       "    </tr>\n",
       "    <tr>\n",
       "      <td>CONJ</td>\n",
       "      <td>0.055012</td>\n",
       "      <td>0.060140</td>\n",
       "      <td>0.035431</td>\n",
       "      <td>0.040559</td>\n",
       "      <td>0.151981</td>\n",
       "      <td>0.008858</td>\n",
       "      <td>0.119814</td>\n",
       "      <td>0.117949</td>\n",
       "      <td>0.000466</td>\n",
       "      <td>0.350583</td>\n",
       "      <td>0.005128</td>\n",
       "      <td>0.054079</td>\n",
       "    </tr>\n",
       "    <tr>\n",
       "      <td>NOUN</td>\n",
       "      <td>0.016851</td>\n",
       "      <td>0.004778</td>\n",
       "      <td>0.239742</td>\n",
       "      <td>0.009629</td>\n",
       "      <td>0.147062</td>\n",
       "      <td>0.028924</td>\n",
       "      <td>0.013313</td>\n",
       "      <td>0.012292</td>\n",
       "      <td>0.042601</td>\n",
       "      <td>0.264544</td>\n",
       "      <td>0.043623</td>\n",
       "      <td>0.176642</td>\n",
       "    </tr>\n",
       "    <tr>\n",
       "      <td>PRT</td>\n",
       "      <td>0.010144</td>\n",
       "      <td>0.017670</td>\n",
       "      <td>0.041885</td>\n",
       "      <td>0.057919</td>\n",
       "      <td>0.402814</td>\n",
       "      <td>0.013089</td>\n",
       "      <td>0.100785</td>\n",
       "      <td>0.086060</td>\n",
       "      <td>0.002291</td>\n",
       "      <td>0.245092</td>\n",
       "      <td>0.001636</td>\n",
       "      <td>0.020615</td>\n",
       "    </tr>\n",
       "    <tr>\n",
       "      <td>ADP</td>\n",
       "      <td>0.013259</td>\n",
       "      <td>0.069397</td>\n",
       "      <td>0.040847</td>\n",
       "      <td>0.062660</td>\n",
       "      <td>0.008234</td>\n",
       "      <td>0.034538</td>\n",
       "      <td>0.323032</td>\n",
       "      <td>0.104897</td>\n",
       "      <td>0.000855</td>\n",
       "      <td>0.324316</td>\n",
       "      <td>0.001497</td>\n",
       "      <td>0.016467</td>\n",
       "    </tr>\n",
       "  </tbody>\n",
       "</table>\n",
       "</div>"
      ],
      "text/plain": [
       "           ADV      PRON         .       NUM      VERB         X       DET  \\\n",
       "ADV   0.078562  0.015313  0.134154  0.031957  0.347537  0.022969  0.067909   \n",
       "PRON  0.034139  0.007672  0.039893  0.007672  0.484081  0.093594  0.009973   \n",
       ".     0.052513  0.065957  0.092935  0.080484  0.089326  0.026798  0.176216   \n",
       "NUM   0.002664  0.001480  0.115749  0.187093  0.016578  0.210184  0.003256   \n",
       "VERB  0.081954  0.035501  0.034491  0.023149  0.168181  0.217587  0.135244   \n",
       "X     0.026119  0.055741  0.161331  0.002867  0.205447  0.075012  0.054627   \n",
       "DET   0.012766  0.003734  0.017584  0.021920  0.039263  0.046489  0.005540   \n",
       "ADJ   0.004611  0.000659  0.064713  0.020748  0.012185  0.020748  0.004611   \n",
       "CONJ  0.055012  0.060140  0.035431  0.040559  0.151981  0.008858  0.119814   \n",
       "NOUN  0.016851  0.004778  0.239742  0.009629  0.147062  0.028924  0.013313   \n",
       "PRT   0.010144  0.017670  0.041885  0.057919  0.402814  0.013089  0.100785   \n",
       "ADP   0.013259  0.069397  0.040847  0.062660  0.008234  0.034538  0.323032   \n",
       "\n",
       "           ADJ      CONJ      NOUN       PRT       ADP  \n",
       "ADV   0.129494  0.007324  0.031624  0.014314  0.118842  \n",
       "PRON  0.074799  0.005370  0.208669  0.011507  0.022631  \n",
       ".     0.044934  0.058287  0.219886  0.002526  0.090048  \n",
       "NUM   0.031676  0.013025  0.355536  0.027531  0.035228  \n",
       "VERB  0.064709  0.005127  0.111008  0.031228  0.091820  \n",
       "X     0.016722  0.010033  0.062271  0.185539  0.144290  \n",
       "DET   0.205588  0.000482  0.637119  0.000241  0.009274  \n",
       "ADJ   0.066689  0.016796  0.698502  0.011032  0.078709  \n",
       "CONJ  0.117949  0.000466  0.350583  0.005128  0.054079  \n",
       "NOUN  0.012292  0.042601  0.264544  0.043623  0.176642  \n",
       "PRT   0.086060  0.002291  0.245092  0.001636  0.020615  \n",
       "ADP   0.104897  0.000855  0.324316  0.001497  0.016467  "
      ]
     },
     "execution_count": 17,
     "metadata": {},
     "output_type": "execute_result"
    }
   ],
   "source": [
    "tags_df"
   ]
  },
  {
   "cell_type": "code",
   "execution_count": 18,
   "metadata": {},
   "outputs": [
    {
     "data": {
      "image/png": "[encoded data removed]",
      "text/plain": [
       "<Figure size 1296x864 with 2 Axes>"
      ]
     },
     "metadata": {
      "needs_background": "light"
     },
     "output_type": "display_data"
    }
   ],
   "source": [
    "\n",
    "# heatmap of tags matrix\n",
    "# T(i, j) indicates P(tag j given tag i)\n",
    "plt.figure(figsize=(18, 12))\n",
    "sns.heatmap(tags_df)\n",
    "plt.show()"
   ]
  },
  {
   "cell_type": "code",
   "execution_count": 19,
   "metadata": {},
   "outputs": [
    {
     "data": {
      "image/png": "[encoded data removed]",
      "text/plain": [
       "<Figure size 1296x864 with 2 Axes>"
      ]
     },
     "metadata": {
      "needs_background": "light"
     },
     "output_type": "display_data"
    }
   ],
   "source": [
    "# frequent tags\n",
    "# filter the df to get P(t2, t1) > 0.5\n",
    "tags_frequent = tags_df[tags_df>0.5]\n",
    "plt.figure(figsize=(18, 12))\n",
    "sns.heatmap(tags_frequent)\n",
    "plt.show()"
   ]
  },
  {
   "cell_type": "markdown",
   "metadata": {},
   "source": [
    "## 3. Viterbi Algorithm\n",
    "\n",
    "Let's now use the computed probabilities P(w, tag) and P(t2, t1) to assign tags to each word in the document. We'll run through each word w and compute P(tag/w)=P(w/tag).P(tag) for each tag in the tag set, and then assign the tag having the max P(tag/w).\n",
    "\n",
    "We'll store the assigned tags in a list of tuples, similar to the list 'train_tagged_words'. Each tuple will be a (token, assigned_tag). As we progress further in the list, each tag to be assigned will use the tag of the previous token.\n",
    "\n",
    "Note: P(tag|start) = P(tag|'.') "
   ]
  },
  {
   "cell_type": "markdown",
   "metadata": {},
   "source": [
    "### Build the vanilla Viterbi based POS tagger"
   ]
  },
  {
   "cell_type": "code",
   "execution_count": 20,
   "metadata": {},
   "outputs": [
    {
     "data": {
      "text/plain": [
       "95570"
      ]
     },
     "execution_count": 20,
     "metadata": {},
     "output_type": "execute_result"
    }
   ],
   "source": [
    "len(train_tagged_words)"
   ]
  },
  {
   "cell_type": "code",
   "execution_count": 21,
   "metadata": {},
   "outputs": [],
   "source": [
    "# Viterbi Heuristic\n",
    "def Viterbi(words, train_bag = train_tagged_words):\n",
    "    state = []\n",
    "    T = list(set([pair[1] for pair in train_bag]))\n",
    "    \n",
    "    for key, word in enumerate(words):\n",
    "        #initialise list of probability column for a given observation\n",
    "        p = [] \n",
    "        for tag in T:\n",
    "            if key == 0:\n",
    "                transition_p = tags_df.loc['.', tag]\n",
    "            else:\n",
    "                transition_p = tags_df.loc[state[-1], tag]\n",
    "                \n",
    "            # compute emission and state probabilities\n",
    "            emission_p = word_given_tag(words[key], tag)[0]/word_given_tag(words[key], tag)[1]\n",
    "            state_probability = emission_p * transition_p    \n",
    "            p.append(state_probability)\n",
    "            \n",
    "        pmax = max(p)\n",
    "        # getting state for which probability is maximum\n",
    "        state_max = T[p.index(pmax)] \n",
    "        state.append(state_max)\n",
    "    return list(zip(words, state))"
   ]
  },
  {
   "cell_type": "code",
   "execution_count": 22,
   "metadata": {},
   "outputs": [],
   "source": [
    "\n",
    "\n",
    "\n",
    "# list of tagged words in test set\n",
    "test_run_base = [tup for sent in test_set for tup in sent]\n",
    "\n",
    "# list of  words which are untagged in test set\n",
    "test_tagged_words = [tup[0] for sent in test_set for tup in sent]"
   ]
  },
  {
   "cell_type": "code",
   "execution_count": 23,
   "metadata": {},
   "outputs": [],
   "source": [
    "# tagging the test sentences\n",
    "start = time.time()\n",
    "tagged_seq = Viterbi(test_tagged_words)\n",
    "end = time.time()\n",
    "difference = end-start"
   ]
  },
  {
   "cell_type": "code",
   "execution_count": 24,
   "metadata": {},
   "outputs": [
    {
     "name": "stdout",
     "output_type": "stream",
     "text": [
      "1504.696028470993\n"
     ]
    }
   ],
   "source": [
    "\n",
    "#Print total time taken to train the algorithm\n",
    "print(difference)"
   ]
  },
  {
   "cell_type": "code",
   "execution_count": 25,
   "metadata": {},
   "outputs": [
    {
     "name": "stdout",
     "output_type": "stream",
     "text": [
      "0.8936545240893067\n"
     ]
    }
   ],
   "source": [
    "\n",
    "# Get accuracy of model\n",
    "check = [i for i, j in zip(tagged_seq, test_run_base) if i == j] \n",
    "accuracy = len(check)/len(tagged_seq)\n",
    "print(accuracy)"
   ]
  },
  {
   "cell_type": "markdown",
   "metadata": {},
   "source": [
    "## vanilla Viterbi algorithm has an acuuracy of 90%"
   ]
  },
  {
   "cell_type": "code",
   "execution_count": 26,
   "metadata": {},
   "outputs": [
    {
     "name": "stdout",
     "output_type": "stream",
     "text": [
      "Android is a mobile operating system developed by Google.\n",
      "\n",
      "Android has been the best-selling OS worldwide on smartphones since 2011 and on tablets since 2013.\n",
      "\n",
      "Google and Twitter made a deal in 2015 that gave Google access to Twitter's firehose.\n",
      "\n",
      "Twitter is an online news and social networking service on which users post and interact with messages known as tweets.\n",
      "\n",
      "Before entering politics, Donald Trump was a domineering businessman and a television personality.\n",
      "\n",
      "The 2018 FIFA World Cup is the 21st FIFA World Cup, an international football tournament contested once every four years.\n",
      "\n",
      "This is the first World Cup to be held in Eastern Europe and the 11th time that it has been held in Europe.\n",
      "\n",
      "Show me the cheapest round trips from Dallas to Atlanta\n",
      "\n",
      "I would like to see flights from Denver to Philadelphia.\n",
      "\n",
      "Show me the price of the flights leaving Atlanta at about 3 in the afternoon and arriving in San Francisco.\n",
      "\n",
      "NASA invited social media users to experience the launch of ICESAT-2 Satellite.\n",
      "\n",
      "\n",
      "\n",
      "\n",
      "\n",
      "\n",
      "\n"
     ]
    }
   ],
   "source": [
    "\n",
    "#Read the text file wchi has to be used in this assignment.\n",
    "lines=[]\n",
    "f = codecs.open(\"Test_sentences.txt\", encoding='utf-8')\n",
    "for line in f:\n",
    "    print(line)\n",
    "    lines.append(line)"
   ]
  },
  {
   "cell_type": "code",
   "execution_count": null,
   "metadata": {},
   "outputs": [],
   "source": []
  },
  {
   "cell_type": "markdown",
   "metadata": {},
   "source": [
    "### Solve the problem of unknown words"
   ]
  },
  {
   "cell_type": "code",
   "execution_count": 27,
   "metadata": {},
   "outputs": [
    {
     "data": {
      "text/plain": [
       "['Android is a mobile operating system developed by Google.\\r\\n',\n",
       " 'Android has been the best-selling OS worldwide on smartphones since 2011 and on tablets since 2013.\\r\\n',\n",
       " \"Google and Twitter made a deal in 2015 that gave Google access to Twitter's firehose.\\r\\n\",\n",
       " 'Twitter is an online news and social networking service on which users post and interact with messages known as tweets.\\r\\n',\n",
       " 'Before entering politics, Donald Trump was a domineering businessman and a television personality.\\r\\n',\n",
       " 'The 2018 FIFA World Cup is the 21st FIFA World Cup, an international football tournament contested once every four years.\\r\\n',\n",
       " 'This is the first World Cup to be held in Eastern Europe and the 11th time that it has been held in Europe.\\r\\n',\n",
       " 'Show me the cheapest round trips from Dallas to Atlanta\\r\\n',\n",
       " 'I would like to see flights from Denver to Philadelphia.\\r\\n',\n",
       " 'Show me the price of the flights leaving Atlanta at about 3 in the afternoon and arriving in San Francisco.\\r\\n',\n",
       " 'NASA invited social media users to experience the launch of ICESAT-2 Satellite.\\r\\n',\n",
       " '\\r\\n',\n",
       " '\\r\\n',\n",
       " '\\r\\n']"
      ]
     },
     "execution_count": 27,
     "metadata": {},
     "output_type": "execute_result"
    }
   ],
   "source": [
    "lines"
   ]
  },
  {
   "cell_type": "code",
   "execution_count": 28,
   "metadata": {},
   "outputs": [
    {
     "data": {
      "text/plain": [
       "['Android is a mobile operating system developed by Google.',\n",
       " 'Android has been the best-selling OS worldwide on smartphones since 2011 and on tablets since 2013.',\n",
       " \"Google and Twitter made a deal in 2015 that gave Google access to Twitter's firehose.\",\n",
       " 'Twitter is an online news and social networking service on which users post and interact with messages known as tweets.',\n",
       " 'Before entering politics, Donald Trump was a domineering businessman and a television personality.',\n",
       " 'The 2018 FIFA World Cup is the 21st FIFA World Cup, an international football tournament contested once every four years.',\n",
       " 'This is the first World Cup to be held in Eastern Europe and the 11th time that it has been held in Europe.',\n",
       " 'Show me the cheapest round trips from Dallas to Atlanta',\n",
       " 'I would like to see flights from Denver to Philadelphia.',\n",
       " 'Show me the price of the flights leaving Atlanta at about 3 in the afternoon and arriving in San Francisco.',\n",
       " 'NASA invited social media users to experience the launch of ICESAT-2 Satellite.']"
      ]
     },
     "execution_count": 28,
     "metadata": {},
     "output_type": "execute_result"
    }
   ],
   "source": [
    "\n",
    "#Strip the special characters and empty strings in the list file\n",
    "test_lines =[sent.rstrip() for sent in lines if sent.rstrip()!='']\n",
    "test_lines"
   ]
  },
  {
   "cell_type": "code",
   "execution_count": 29,
   "metadata": {},
   "outputs": [
    {
     "data": {
      "text/plain": [
       "[[(',', '.'), (('money-fund', 'ADV'), ('money-fund', 'NOUN'))],\n",
       " [('to', 'PRT'), (('facilitate', 'ADV'), ('facilitate', 'VERB'))],\n",
       " [('can', 'VERB'), (('boast', 'ADV'), ('boast', 'VERB'))],\n",
       " [('the', 'DET'), (('lion', 'ADV'), ('lion', 'NOUN'))],\n",
       " [('high-priced', 'ADJ'), (('bottles', 'ADV'), ('bottles', 'NOUN'))],\n",
       " [('the', 'DET'), (('pre-1933', 'ADV'), ('pre-1933', 'ADJ'))],\n",
       " [('the', 'DET'), (('key', 'ADJ'), ('key', 'NOUN'))],\n",
       " [('*', 'X'), (('satisfying', 'ADV'), ('satisfying', 'VERB'))],\n",
       " [('3\\\\/4', 'NUM'), (('earlier', 'ADJ'), ('earlier', 'ADV'))],\n",
       " [('and', 'CONJ'), (('reserved', 'ADV'), ('reserved', 'VERB'))],\n",
       " [('$', '.'), (('227', 'ADV'), ('227', 'NUM'))],\n",
       " [('long-term', 'ADJ'), (('play', 'VERB'), ('play', 'NOUN'))],\n",
       " [('of', 'ADP'), (('Lauderhill', 'ADV'), ('Lauderhill', 'NOUN'))],\n",
       " [('of', 'ADP'), (('Plantation', 'ADV'), ('Plantation', 'NOUN'))],\n",
       " [('active', 'ADJ'), (('55-year-old', 'ADV'), ('55-year-old', 'NOUN'))],\n",
       " [('Boca', 'NOUN'), (('Raton', 'ADV'), ('Raton', 'NOUN'))],\n",
       " [('about', 'ADP'), (('Senior', 'ADV'), ('Senior', 'NOUN'))],\n",
       " [('a', 'DET'), (('75-year-old', 'ADV'), ('75-year-old', 'NUM'))],\n",
       " [('*-1', 'X'), (('Bucking', 'ADV'), ('Bucking', 'VERB'))],\n",
       " [('apparently', 'ADV'), (('drew', 'ADV'), ('drew', 'VERB'))],\n",
       " [('Toronto', 'NOUN'), (('cable', 'ADV'), ('cable', 'NOUN'))],\n",
       " [('was', 'VERB'), (('relieved', 'ADV'), ('relieved', 'ADJ'))],\n",
       " [('``', '.'), (('Funny', 'ADJ'), ('Funny', 'NOUN'))],\n",
       " [('-LRB-', '.'), (('Soho', 'ADV'), ('Soho', 'NOUN'))],\n",
       " [('anything', 'NOUN'), (('but', 'CONJ'), ('but', 'ADV'))],\n",
       " [('the', 'DET'), (('Charter', 'ADV'), ('Charter', 'NOUN'))],\n",
       " [('Charter', 'NOUN'), (('Oak', 'ADV'), ('Oak', 'NOUN'))],\n",
       " [('the', 'DET'), (('cast-iron', 'ADV'), ('cast-iron', 'ADJ'))],\n",
       " [('cast-iron', 'ADJ'), (('medallions', 'ADV'), ('medallions', 'NOUN'))],\n",
       " [('.', '.'), (('Professors', 'ADV'), ('Professors', 'NOUN'))],\n",
       " [('and', 'CONJ'), (('Laurence', 'ADV'), ('Laurence', 'NOUN'))],\n",
       " [('would', 'VERB'), (('contradict', 'ADV'), ('contradict', 'VERB'))],\n",
       " [(',', '.'), (('as', 'ADP'), ('as', 'ADV'))],\n",
       " [('very', 'ADV'), (('alarmed', 'ADV'), ('alarmed', 'VERB'))],\n",
       " [('rich', 'ADJ'), (('valuations', 'ADV'), ('valuations', 'NOUN'))],\n",
       " [('succeeded', 'VERB'), (('Bennett', 'ADV'), ('Bennett', 'NOUN'))],\n",
       " [('Bennett', 'NOUN'), (('Cerf', 'ADV'), ('Cerf', 'NOUN'))],\n",
       " [('in', 'ADP'), (('1925', 'ADV'), ('1925', 'NUM'))],\n",
       " [('questions', 'NOUN'), (('range', 'NOUN'), ('range', 'VERB'))],\n",
       " [('a', 'DET'), (('Maine', 'ADV'), ('Maine', 'NOUN'))],\n",
       " [('Maine', 'NOUN'), (('initiative', 'ADV'), ('initiative', 'NOUN'))],\n",
       " [('Cruise', 'NOUN'), (('missiles', 'ADV'), ('missiles', 'NOUN'))],\n",
       " [('North', 'NOUN'), (('Dakota', 'ADV'), ('Dakota', 'NOUN'))],\n",
       " [('New', 'NOUN'), (('Orleans-based', 'ADV'), ('Orleans-based', 'ADJ'))],\n",
       " [('will', 'VERB'), (('exchange', 'NOUN'), ('exchange', 'VERB'))],\n",
       " [('a', 'DET'), (('yet-to-be-formed', 'ADV'), ('yet-to-be-formed', 'ADJ'))],\n",
       " [('a', 'DET'), (('vast', 'ADV'), ('vast', 'ADJ'))],\n",
       " [('the', 'DET'), (('hysteria', 'ADV'), ('hysteria', 'NOUN'))],\n",
       " [('the', 'DET'), (('smallest', 'ADV'), ('smallest', 'ADJ'))],\n",
       " [('which', 'DET'), (('*T*-162', 'ADV'), ('*T*-162', 'X'))],\n",
       " [('costs', 'VERB'), (('around', 'ADP'), ('around', 'ADV'))],\n",
       " [('has', 'VERB'), (('cultivated', 'ADV'), ('cultivated', 'VERB'))],\n",
       " [('a', 'DET'), (('much', 'ADJ'), ('much', 'ADV'))],\n",
       " [('much', 'ADV'), (('savvier', 'ADV'), ('savvier', 'ADJ'))],\n",
       " [(':', '.'), (('Can', 'ADV'), ('Can', 'VERB'))],\n",
       " [('like', 'ADP'), (('hard-charging', 'ADV'), ('hard-charging', 'ADJ'))],\n",
       " [('hard-charging', 'ADJ'), (('Teddy', 'ADV'), ('Teddy', 'NOUN'))],\n",
       " [('Teddy', 'NOUN'), (('Roosevelt', 'ADV'), ('Roosevelt', 'NOUN'))],\n",
       " [('?', '.'), (('Manila', 'ADV'), ('Manila', 'NOUN'))],\n",
       " [('were', 'VERB'), (('corrected', 'ADV'), ('corrected', 'VERB'))],\n",
       " [('.', '.'), (('More', 'ADV'), ('More', 'ADJ'))],\n",
       " [('the', 'DET'), (('red-carpet', 'ADV'), ('red-carpet', 'ADJ'))],\n",
       " [('treatment', 'NOUN'), (('tempts', 'ADV'), ('tempts', 'VERB'))],\n",
       " [('to', 'PRT'), (('return', 'NOUN'), ('return', 'VERB'))],\n",
       " [('a', 'DET'), (('heartland', 'ADV'), ('heartland', 'NOUN'))],\n",
       " [('.', '.'), (('Yet', 'CONJ'), ('Yet', 'ADV'))],\n",
       " [('Marie-Louise', 'NOUN'), (('Giraud', 'ADV'), ('Giraud', 'NOUN'))],\n",
       " [('historical', 'ADJ'), (('significance', 'ADV'), ('significance', 'NOUN'))],\n",
       " [(\"'s\", 'PRT'), (('hypocrisy', 'ADV'), ('hypocrisy', 'NOUN'))],\n",
       " [('large', 'ADJ'), (('integrated', 'ADJ'), ('integrated', 'VERB'))],\n",
       " [('%', 'NOUN'), (('unconsolidated', 'ADV'), ('unconsolidated', 'ADJ'))],\n",
       " [('unconsolidated', 'ADJ'), (('gain', 'VERB'), ('gain', 'NOUN'))],\n",
       " [('in', 'ADP'), (('first-half', 'ADV'), ('first-half', 'ADJ'))],\n",
       " [('first-half', 'ADJ'), (('pretax', 'ADJ'), ('pretax', 'NOUN'))],\n",
       " [('.', '.'), (('Lead', 'ADV'), ('Lead', 'ADJ'))],\n",
       " [('are', 'VERB'), (('Scotia', 'ADV'), ('Scotia', 'NOUN'))],\n",
       " [('Scotia', 'NOUN'), (('McLeod', 'ADV'), ('McLeod', 'NOUN'))],\n",
       " [('and', 'CONJ'), (('RBC', 'ADV'), ('RBC', 'NOUN'))],\n",
       " [('RBC', 'NOUN'), (('Dominion', 'ADV'), ('Dominion', 'NOUN'))],\n",
       " [('We', 'PRON'), (('flat', 'ADJ'), ('flat', 'ADV'))],\n",
       " [('ran', 'VERB'), (('out', 'PRT'), ('out', 'ADP'))],\n",
       " [(\"'\", 'PRT'), (('binders', 'ADV'), ('binders', 'NOUN'))],\n",
       " [('.', '.'), (('Everybody', 'ADV'), ('Everybody', 'NOUN'))],\n",
       " [('--', '.'), (('and', 'CONJ'), ('and', 'ADP'))],\n",
       " [('progress', 'NOUN'), (('moves', 'NOUN'), ('moves', 'VERB'))],\n",
       " [('make', 'VERB'), (('judgments', 'ADV'), ('judgments', 'NOUN'))],\n",
       " [('*T*-2', 'X'), (('Myron', 'ADV'), ('Myron', 'NOUN'))],\n",
       " [('associate', 'NOUN'), (('dean', 'ADV'), ('dean', 'NOUN'))],\n",
       " [('*-1', 'X'), (('installing', 'ADV'), ('installing', 'VERB'))],\n",
       " [('its', 'PRON'), (('F-series', 'ADV'), ('F-series', 'NOUN'))],\n",
       " [('F-series', 'NOUN'), (('Crew', 'ADV'), ('Crew', 'NOUN'))],\n",
       " [('Crew', 'NOUN'), (('Cab', 'ADV'), ('Cab', 'NOUN'))],\n",
       " [('Cab', 'NOUN'), (('pickups', 'ADV'), ('pickups', 'NOUN'))],\n",
       " [('At', 'ADP'), (('Christie', 'ADV'), ('Christie', 'NOUN'))],\n",
       " [('a', 'DET'), (('folio', 'ADV'), ('folio', 'NOUN'))],\n",
       " [('Alfred', 'NOUN'), (('Stieglitz', 'ADV'), ('Stieglitz', 'NOUN'))],\n",
       " [('``', '.'), (('Equivalents', 'ADV'), ('Equivalents', 'NOUN'))],\n",
       " [('$', '.'), (('396,000', 'ADV'), ('396,000', 'NUM'))],\n",
       " [('a', 'DET'), (('single-lot', 'ADV'), ('single-lot', 'ADJ'))],\n",
       " [('single-lot', 'ADJ'), (('record', 'VERB'), ('record', 'NOUN'))],\n",
       " [('of', 'ADP'), (('two-letter', 'ADV'), ('two-letter', 'ADJ'))],\n",
       " [('two-letter', 'ADJ'), (('consonant', 'ADV'), ('consonant', 'ADJ'))],\n",
       " [('consonant', 'ADJ'), (('sounds', 'VERB'), ('sounds', 'NOUN'))],\n",
       " [('same', 'ADJ'), (('sounds', 'VERB'), ('sounds', 'NOUN'))],\n",
       " [('--', '.'), (('to', 'PRT'), ('to', 'ADP'))],\n",
       " [('the', 'DET'), (('exclusion', 'ADV'), ('exclusion', 'NOUN'))],\n",
       " [('other', 'ADJ'), (('sounds', 'VERB'), ('sounds', 'NOUN'))],\n",
       " [('P.', 'NOUN'), (('Smaby', 'ADV'), ('Smaby', 'NOUN'))],\n",
       " [('of', 'ADP'), (('Smaby', 'ADV'), ('Smaby', 'NOUN'))],\n",
       " [(',', '.'), (('gilt', 'ADV'), ('gilt', 'ADJ'))],\n",
       " [('plunged', 'VERB'), (('more', 'ADV'), ('more', 'ADJ'))],\n",
       " [('*-1', 'X'), (('recovering', 'ADV'), ('recovering', 'VERB'))],\n",
       " [('recovering', 'VERB'), (('much', 'ADV'), ('much', 'ADJ'))],\n",
       " [('.', '.'), (('Superconductors', 'ADV'), ('Superconductors', 'NOUN'))],\n",
       " [('South', 'NOUN'), (('Africa', 'ADV'), ('Africa', 'NOUN'))],\n",
       " [('accused', 'VERB'), (('armed', 'ADV'), ('armed', 'VERB'))],\n",
       " [('armed', 'VERB'), (('Namibian', 'ADV'), ('Namibian', 'ADJ'))],\n",
       " [('Namibian', 'ADJ'), (('nationalist', 'ADV'), ('nationalist', 'ADJ'))],\n",
       " [('nationalist', 'ADJ'), (('guerrillas', 'ADV'), ('guerrillas', 'NOUN'))],\n",
       " [('in', 'ADP'), (('neighboring', 'ADV'), ('neighboring', 'VERB'))],\n",
       " [('neighboring', 'VERB'), (('Angola', 'ADV'), ('Angola', 'NOUN'))],\n",
       " [('*-1', 'X'), (('violating', 'ADV'), ('violating', 'VERB'))],\n",
       " [('violating', 'VERB'),\n",
       "  (('U.N.-supervised', 'ADV'), ('U.N.-supervised', 'ADJ'))],\n",
       " [('U.N.-supervised', 'ADJ'), (('peace', 'ADV'), ('peace', 'NOUN'))],\n",
       " [('peace', 'NOUN'), (('plans', 'VERB'), ('plans', 'NOUN'))],\n",
       " [('the', 'DET'), (('territory', 'ADV'), ('territory', 'NOUN'))],\n",
       " [('.', '.'), (('McDermott', 'ADV'), ('McDermott', 'NOUN'))],\n",
       " [('its', 'PRON'), (('Babcock', 'ADV'), ('Babcock', 'NOUN'))],\n",
       " [('&', 'CONJ'), (('Wilcox', 'ADV'), ('Wilcox', 'NOUN'))],\n",
       " [('Finmeccanica', 'NOUN'), (('S.p', 'ADV'), ('S.p', 'NOUN'))],\n",
       " [('$', '.'), (('295', 'ADV'), ('295', 'NUM'))],\n",
       " [('People', 'NOUN'), (('close', 'VERB'), ('close', 'ADJ'))],\n",
       " [('to', 'PRT'), (('guarantee', 'NOUN'), ('guarantee', 'VERB'))],\n",
       " [('estimated', 'VERB'),\n",
       "  (('seven-million-ton', 'ADV'), ('seven-million-ton', 'ADJ'))],\n",
       " [('seven-million-ton', 'ADJ'), (('cut', 'VERB'), ('cut', 'NOUN'))],\n",
       " [('annual', 'ADJ'), (('sulfur-dioxide', 'ADV'), ('sulfur-dioxide', 'NOUN'))],\n",
       " [('emissions', 'NOUN'), (('that', 'ADP'), ('that', 'DET'))],\n",
       " [('to', 'PRT'), (('acid', 'ADJ'), ('acid', 'NOUN'))],\n",
       " [('strong', 'ADJ'), (('livestock', 'ADV'), ('livestock', 'NOUN'))],\n",
       " [(\"'s\", 'PRT'), (('cattle', 'ADV'), ('cattle', 'NOUN'))],\n",
       " [('cattle', 'NOUN'), (('inventory', 'ADV'), ('inventory', 'NOUN'))],\n",
       " [('dropped', 'VERB'), (('close', 'VERB'), ('close', 'ADV'))],\n",
       " [('30-year', 'ADJ'), (('low', 'ADJ'), ('low', 'NOUN'))],\n",
       " [('he', 'PRON'), (('reaffirmed', 'ADV'), ('reaffirmed', 'VERB'))],\n",
       " [('reaffirmed', 'VERB'), (('support', 'VERB'), ('support', 'NOUN'))],\n",
       " [(',', '.'), (('Ortega', 'ADV'), ('Ortega', 'NOUN'))],\n",
       " [('could', 'VERB'), (('thwart', 'ADV'), ('thwart', 'VERB'))],\n",
       " [('.', '.'), (('Periods', 'ADV'), ('Periods', 'NOUN'))],\n",
       " [('the', 'DET'), (('advent', 'ADV'), ('advent', 'NOUN'))],\n",
       " [('often', 'ADV'), (('more', 'ADJ'), ('more', 'ADV'))],\n",
       " [('were', 'VERB'), (('undergoing', 'ADV'), ('undergoing', 'VERB'))],\n",
       " [('undergoing', 'VERB'), (('change', 'VERB'), ('change', 'NOUN'))],\n",
       " [('-LRB-', '.'), (('1973-75', 'ADV'), ('1973-75', 'NUM'))],\n",
       " [(',', '.'), (('1937-40', 'ADV'), ('1937-40', 'NUM'))],\n",
       " [('and', 'CONJ'), (('1928-33', 'ADV'), ('1928-33', 'NUM'))],\n",
       " [('advance', 'NOUN'), (('notice', 'ADV'), ('notice', 'NOUN'))],\n",
       " [('foreign', 'ADJ'), (('ministers', 'ADV'), ('ministers', 'NOUN'))],\n",
       " [('Australia', 'NOUN'), (('next', 'ADP'), ('next', 'ADJ'))],\n",
       " [('issues', 'NOUN'), (('as', 'ADP'), ('as', 'ADV'))],\n",
       " [(':', '.'), (('64-year-old', 'ADV'), ('64-year-old', 'ADJ'))],\n",
       " [('64-year-old', 'ADJ'), (('Derek', 'ADV'), ('Derek', 'NOUN'))],\n",
       " [('Plans', 'NOUN'), (('that', 'ADP'), ('that', 'DET'))],\n",
       " [('advertisers', 'NOUN'), (('discounts', 'ADV'), ('discounts', 'NOUN'))],\n",
       " [('permanent', 'ADJ'), (('fixtures', 'ADV'), ('fixtures', 'NOUN'))],\n",
       " [('and', 'CONJ'), (('underscore', 'ADV'), ('underscore', 'VERB'))],\n",
       " [('and', 'CONJ'), (('Mortimer', 'ADV'), ('Mortimer', 'NOUN'))],\n",
       " [('B.', 'NOUN'), (('Zuckerman', 'ADV'), ('Zuckerman', 'NOUN'))],\n",
       " [('purchase', 'NOUN'), (('plans', 'VERB'), ('plans', 'NOUN'))],\n",
       " [('their', 'PRON'), (('biannual', 'ADV'), ('biannual', 'ADJ'))],\n",
       " [('biannual', 'ADJ'), (('powwow', 'ADV'), ('powwow', 'NOUN'))],\n",
       " [('manufacturing', 'VERB'), (('titans', 'ADV'), ('titans', 'NOUN'))],\n",
       " [('typically', 'ADV'), (('jet', 'NOUN'), ('jet', 'VERB'))],\n",
       " [('the', 'DET'), (('sunny', 'ADV'), ('sunny', 'ADJ'))],\n",
       " [('sunny', 'ADJ'), (('confines', 'ADV'), ('confines', 'NOUN'))],\n",
       " [('of', 'ADP'), (('resort', 'ADV'), ('resort', 'NOUN'))],\n",
       " [('Boca', 'NOUN'), (('Raton', 'ADV'), ('Raton', 'NOUN'))],\n",
       " [('and', 'CONJ'), (('Hot', 'ADJ'), ('Hot', 'NOUN'))],\n",
       " [('The', 'DET'), (('following', 'NOUN'), ('following', 'VERB'))],\n",
       " [('Stephanie', 'NOUN'), (('Veselich', 'ADV'), ('Veselich', 'NOUN'))],\n",
       " [('Veselich', 'NOUN'), (('Enright', 'ADV'), ('Enright', 'NOUN'))],\n",
       " [(',', '.'), (('Rolling', 'ADV'), ('Rolling', 'NOUN'))],\n",
       " [('$', '.'), (('11,762', 'ADV'), ('11,762', 'NUM'))],\n",
       " [(';', '.'), (('Stuart', 'ADV'), ('Stuart', 'NOUN'))],\n",
       " [('Lane', 'NOUN'), (('Russel', 'ADV'), ('Russel', 'NOUN'))],\n",
       " [(',', '.'), (('Glendale', 'ADV'), ('Glendale', 'NOUN'))],\n",
       " [('$', '.'), (('14,821', 'ADV'), ('14,821', 'NUM'))],\n",
       " [('Devon', 'NOUN'), (('Nilson', 'ADV'), ('Nilson', 'NOUN'))],\n",
       " [(',', '.'), (('Fountain', 'ADV'), ('Fountain', 'NOUN'))],\n",
       " [('$', '.'), (('82,389', 'ADV'), ('82,389', 'NUM'))],\n",
       " [('on', 'ADP'), (('subscription', 'ADV'), ('subscription', 'NOUN'))],\n",
       " [('subscription', 'NOUN'), (('revenues', 'ADV'), ('revenues', 'NOUN'))],\n",
       " [('*', 'X'), (('Encouraging', 'ADV'), ('Encouraging', 'VERB'))],\n",
       " [('long-term', 'ADJ'), (('investing', 'VERB'), ('investing', 'NOUN'))],\n",
       " [('*EXP*-1', 'X'), ((\"'s\", 'PRT'), (\"'s\", 'VERB'))],\n",
       " [('too', 'ADV'), (('early', 'ADJ'), ('early', 'ADV'))],\n",
       " [('*-2', 'X'), (('initialing', 'ADV'), ('initialing', 'VERB'))],\n",
       " [(',', '.'), (('amending', 'ADV'), ('amending', 'VERB'))],\n",
       " [('its', 'PRON'), (('trademark', 'ADV'), ('trademark', 'NOUN'))],\n",
       " [('and', 'CONJ'), (('introducing', 'ADV'), ('introducing', 'VERB'))],\n",
       " [('from', 'ADP'), (('unauthorized', 'ADV'), ('unauthorized', 'ADJ'))],\n",
       " [('unauthorized', 'ADJ'), (('showings', 'ADV'), ('showings', 'NOUN'))],\n",
       " [('expelled', 'VERB'), (('*-150', 'ADV'), ('*-150', 'X'))],\n",
       " [('fined', 'VERB'), (('*-151', 'ADV'), ('*-151', 'X'))],\n",
       " [('a', 'DET'), (('newsstand', 'ADV'), ('newsstand', 'NOUN'))],\n",
       " [('a', 'DET'), (('freeway', 'ADV'), ('freeway', 'NOUN'))],\n",
       " [('perhaps', 'ADV'), (('inevitable', 'ADV'), ('inevitable', 'ADJ'))],\n",
       " [('is', 'VERB'), (('conducted', 'ADV'), ('conducted', 'VERB'))],\n",
       " [('Family', 'NOUN'), (('Opinion', 'ADV'), ('Opinion', 'NOUN'))],\n",
       " [('exports', 'NOUN'), (('more', 'ADV'), ('more', 'ADJ'))],\n",
       " [('under', 'ADP'), (('more', 'ADJ'), ('more', 'ADV'))],\n",
       " [('``', '.'), (('Nor', 'ADV'), ('Nor', 'CONJ'))],\n",
       " [('to', 'PRT'), (('reprint', 'ADV'), ('reprint', 'VERB'))],\n",
       " [(',', '.'), (('watch', 'VERB'), ('watch', 'NOUN'))],\n",
       " [('$', '.'), (('434.4', 'ADV'), ('434.4', 'NUM'))],\n",
       " [('of', 'ADP'), (('excesses', 'ADV'), ('excesses', 'NOUN'))],\n",
       " [('*ICH*-1', 'X'), (('out', 'PRT'), ('out', 'ADP'))],\n",
       " [('out', 'ADP'), (('there', 'DET'), ('there', 'ADV'))],\n",
       " [('there', 'ADV'), (('that', 'ADP'), ('that', 'DET'))],\n",
       " [('would', 'VERB'), (('tilt', 'ADV'), ('tilt', 'VERB'))],\n",
       " [('income', 'NOUN'), (('confirms', 'ADV'), ('confirms', 'VERB'))],\n",
       " [(\"'s\", 'PRT'), (('rebound', 'VERB'), ('rebound', 'NOUN'))],\n",
       " [('agricultural', 'ADJ'), (('depression', 'ADV'), ('depression', 'NOUN'))],\n",
       " [('early', 'ADJ'), (('1980s', 'NOUN'), ('1980s', 'NUM'))],\n",
       " [('John', 'NOUN'), (('Deere', 'ADV'), ('Deere', 'NOUN'))],\n",
       " [('for', 'ADP'), (('midsized', 'VERB'), ('midsized', 'ADJ'))],\n",
       " [('*EXP*-1', 'X'), ((\"'s\", 'PRT'), (\"'s\", 'VERB'))],\n",
       " [('an', 'DET'), (('interior', 'ADV'), ('interior', 'ADJ'))],\n",
       " [('interior', 'ADJ'), (('decorator', 'ADV'), ('decorator', 'NOUN'))],\n",
       " [('things', 'NOUN'), (('spook', 'ADV'), ('spook', 'VERB'))],\n",
       " [(\"''\", '.'), (('Policies', 'ADV'), ('Policies', 'NOUN'))],\n",
       " [('are', 'VERB'), (('akin', 'ADV'), ('akin', 'ADJ'))],\n",
       " [('*', 'X'), (('placing', 'ADV'), ('placing', 'VERB'))],\n",
       " [('``', '.'), (('Buyers', 'ADV'), ('Buyers', 'NOUN'))],\n",
       " [('sellers', 'NOUN'), (('please', 'ADV'), ('please', 'VERB'))],\n",
       " [('already', 'ADV'), (('own', 'ADJ'), ('own', 'VERB'))],\n",
       " [('I', 'PRON'), (('sense', 'NOUN'), ('sense', 'VERB'))],\n",
       " [('are', 'VERB'), (('reluctant', 'ADV'), ('reluctant', 'ADJ'))],\n",
       " [('to', 'PRT'), (('stick', 'ADV'), ('stick', 'VERB'))],\n",
       " [('their', 'PRON'), (('necks', 'ADV'), ('necks', 'NOUN'))],\n",
       " [('necks', 'NOUN'), (('out', 'ADP'), ('out', 'PRT'))],\n",
       " [('come', 'VERB'), (('out', 'PRT'), ('out', 'ADP'))],\n",
       " [('Richard', 'NOUN'), (('Eakle', 'ADV'), ('Eakle', 'NOUN'))],\n",
       " [('of', 'ADP'), (('Eakle', 'ADV'), ('Eakle', 'NOUN'))],\n",
       " [('.', '.'), (('NEW', 'ADV'), ('NEW', 'NOUN'))],\n",
       " [('NEW', 'NOUN'), (('ACCOUNT', 'ADV'), ('ACCOUNT', 'NOUN'))],\n",
       " [('and', 'CONJ'), (('record-keeping', 'NOUN'), ('record-keeping', 'ADJ'))],\n",
       " [('.', '.'), (('Could', 'ADV'), ('Could', 'VERB'))],\n",
       " [('evil', 'ADJ'), (('deeds', 'ADV'), ('deeds', 'NOUN'))],\n",
       " [('of', 'ADP'), (('program-trading', 'ADJ'), ('program-trading', 'NOUN'))],\n",
       " [('program-trading', 'NOUN'), (('goblins', 'ADV'), ('goblins', 'NOUN'))],\n",
       " [('private', 'ADJ'), (('watchdogs', 'ADV'), ('watchdogs', 'NOUN'))],\n",
       " [('*', 'X'), (('introducing', 'ADV'), ('introducing', 'VERB'))],\n",
       " [('greater', 'ADJ'), (('friction', 'ADV'), ('friction', 'NOUN'))],\n",
       " [(',', '.'), (('two-tiered', 'ADV'), ('two-tiered', 'ADJ'))],\n",
       " [(',', '.'), (('taxation', 'ADV'), ('taxation', 'NOUN'))],\n",
       " [(',', '.'), (('etc.', 'ADV'), ('etc.', 'X'))],\n",
       " [('end', 'NOUN'), (('loser', 'ADV'), ('loser', 'NOUN'))],\n",
       " [('men', 'NOUN'), (('exuded', 'ADV'), ('exuded', 'VERB'))],\n",
       " [('has', 'VERB'), (('clamped', 'ADV'), ('clamped', 'VERB'))],\n",
       " [('their', 'PRON'), (('ankle', 'ADV'), ('ankle', 'NOUN'))],\n",
       " [(\"'s\", 'PRT'), (('Big', 'NOUN'), ('Big', 'ADJ'))],\n",
       " [('Big', 'ADJ'), (('Three', 'NOUN'), ('Three', 'NUM'))],\n",
       " [('--', '.'), (('Hitachi', 'ADV'), ('Hitachi', 'NOUN'))],\n",
       " [('*', 'X'), (('Consider', 'ADV'), ('Consider', 'VERB'))],\n",
       " [(\"''\", '.'), (('New', 'NOUN'), ('New', 'ADJ'))],\n",
       " [('rules', 'NOUN'), (('force', 'NOUN'), ('force', 'VERB'))],\n",
       " [('write', 'VERB'), (('down', 'ADV'), ('down', 'PRT'))],\n",
       " [('to', 'PRT'), (('book', 'NOUN'), ('book', 'VERB'))],\n",
       " [('leaving', 'VERB'), (('stocks', 'NOUN'), ('stocks', 'ADV'))],\n",
       " [('stocks', 'ADV'), (('up', 'PRT'), ('up', 'ADP'))],\n",
       " [('a', 'DET'), (('sound', 'NOUN'), ('sound', 'ADJ'))],\n",
       " [('of', 'ADP'), (('fronts', 'ADV'), ('fronts', 'NOUN'))],\n",
       " [('be', 'VERB'), (('sticker-shock', 'ADV'), ('sticker-shock', 'NOUN'))],\n",
       " [('is', 'VERB'), (('talked', 'ADV'), ('talked', 'VERB'))],\n",
       " [('and', 'CONJ'), (('starts', 'NOUN'), ('starts', 'VERB'))],\n",
       " [('get', 'VERB'), (('excited', 'ADV'), ('excited', 'VERB'))],\n",
       " [(\"'s\", 'VERB'), (('worth', 'ADP'), ('worth', 'ADJ'))],\n",
       " [('the', 'DET'), (('astronomical', 'ADV'), ('astronomical', 'ADJ'))],\n",
       " [('their', 'PRON'), (('collection', 'ADV'), ('collection', 'NOUN'))],\n",
       " [('for', 'ADP'), (('overnight', 'ADV'), ('overnight', 'ADJ'))],\n",
       " [('overnight', 'ADJ'), (('use', 'VERB'), ('use', 'NOUN'))],\n",
       " [('to', 'PRT'), (('monopolize', 'ADV'), ('monopolize', 'VERB'))],\n",
       " [('and', 'CONJ'), (('sew', 'ADV'), ('sew', 'VERB'))],\n",
       " [('it', 'PRON'), (('up', 'ADV'), ('up', 'PRT'))],\n",
       " [('*T*-1', 'X'), (('Chong-sik', 'ADV'), ('Chong-sik', 'NOUN'))],\n",
       " [('of', 'ADP'), (('East', 'NOUN'), ('East', 'ADJ'))],\n",
       " [('Her', 'PRON'), (('remorse', 'ADV'), ('remorse', 'NOUN'))],\n",
       " [('was', 'VERB'), (('shallow', 'ADV'), ('shallow', 'ADJ'))],\n",
       " [('so-called', 'ADJ'), (('Team', 'ADV'), ('Team', 'NOUN'))],\n",
       " [('the', 'DET'), (('involvement', 'ADV'), ('involvement', 'NOUN'))],\n",
       " [(',', '.'), (('assembly-line', 'ADV'), ('assembly-line', 'NOUN'))],\n",
       " [('development', 'NOUN'), (('cycle', 'ADV'), ('cycle', 'NOUN'))],\n",
       " [('The', 'DET'), (('truck', 'ADV'), ('truck', 'NOUN'))],\n",
       " [('Svenska', 'NOUN'), (('Handelsbanken', 'ADV'), ('Handelsbanken', 'NOUN'))],\n",
       " [('the', 'DET'), (('64-year-old', 'ADV'), ('64-year-old', 'ADJ'))],\n",
       " [('for', 'ADP'), (('more', 'ADJ'), ('more', 'ADV'))],\n",
       " [('year', 'NOUN'), (('away', 'PRT'), ('away', 'ADV'))],\n",
       " [('fully', 'ADV'), (('operational', 'ADV'), ('operational', 'ADJ'))],\n",
       " [('operational', 'ADJ'), (('prototype', 'ADV'), ('prototype', 'NOUN'))],\n",
       " [('.', '.'), (('Packaging', 'ADV'), ('Packaging', 'NOUN'))],\n",
       " [('some', 'DET'), (('drawbacks', 'ADV'), ('drawbacks', 'NOUN'))],\n",
       " [('.', '.'), (('Personal', 'ADV'), ('Personal', 'ADJ'))],\n",
       " [('Intel', 'NOUN'), (('286', 'ADV'), ('286', 'NUM'))],\n",
       " [('386', 'NUM'), (('microprocessors', 'ADV'), ('microprocessors', 'NOUN'))],\n",
       " [('coming', 'VERB'), (('down', 'ADV'), ('down', 'ADP'))],\n",
       " [('Kligman', 'NOUN'), (('patented', 'ADV'), ('patented', 'VERB'))],\n",
       " [('a', 'DET'), (('cap', 'ADV'), ('cap', 'NOUN'))],\n",
       " [(\"'\", 'PRT'), (('sulfur-dioxide', 'ADV'), ('sulfur-dioxide', 'NOUN'))],\n",
       " [('last', 'ADJ'), (('resort', 'ADV'), ('resort', 'NOUN'))],\n",
       " [('his', 'PRON'), (('stable', 'ADJ'), ('stable', 'NOUN'))],\n",
       " [('the', 'DET'), (('1940s', 'ADV'), ('1940s', 'NUM'))],\n",
       " [('until', 'ADP'), (('1971', 'ADV'), ('1971', 'NUM'))],\n",
       " [('synthetic', 'ADJ'), (('hormone', 'ADV'), ('hormone', 'NOUN'))],\n",
       " [('hormone', 'NOUN'),\n",
       "  (('diethylstilbestrol', 'ADV'), ('diethylstilbestrol', 'NOUN'))],\n",
       " [('prevent', 'VERB'), (('miscarriages', 'ADV'), ('miscarriages', 'NOUN'))],\n",
       " [('morning', 'NOUN'), (('sickness', 'ADV'), ('sickness', 'NOUN'))],\n",
       " [('0', 'X'), (('most', 'ADV'), ('most', 'ADJ'))],\n",
       " [('first', 'ADJ'), (('half', 'NOUN'), ('half', 'DET'))],\n",
       " [('to', 'PRT'), (('88.32', 'ADV'), ('88.32', 'NUM'))],\n",
       " [('$', '.'), (('618.1', 'ADV'), ('618.1', 'NUM'))],\n",
       " [('from', 'ADP'), (('77.6', 'ADV'), ('77.6', 'NUM'))],\n",
       " [('year', 'NOUN'), (('earlier', 'ADV'), ('earlier', 'ADJ'))],\n",
       " [('would', 'VERB'), (('contradict', 'ADV'), ('contradict', 'VERB'))],\n",
       " [('contradict', 'VERB'), (('that', 'ADP'), ('that', 'DET'))],\n",
       " [('a', 'DET'), (('limitation', 'ADV'), ('limitation', 'NOUN'))],\n",
       " [('*-52', 'X'), (('placing', 'ADV'), ('placing', 'VERB'))],\n",
       " [('short', 'ADJ'), (('leash', 'ADV'), ('leash', 'NOUN'))],\n",
       " [('the', 'DET'), (('executive', 'ADJ'), ('executive', 'NOUN'))],\n",
       " [('David', 'NOUN'), (('Berson', 'ADV'), ('Berson', 'NOUN'))],\n",
       " [('on', 'ADP'), (('single-family', 'NOUN'), ('single-family', 'ADJ'))],\n",
       " [('have', 'VERB'), (('difficulty', 'ADV'), ('difficulty', 'NOUN'))],\n",
       " [('*-2', 'X'), (('shoring', 'ADV'), ('shoring', 'VERB'))],\n",
       " [('shoring', 'VERB'), (('up', 'ADV'), ('up', 'PRT'))],\n",
       " [('The', 'DET'), (('senior', 'ADJ'), ('senior', 'NOUN'))],\n",
       " [('is', 'VERB'), (('Nigel', 'ADV'), ('Nigel', 'NOUN'))],\n",
       " [('Nigel', 'NOUN'), (('Judah', 'ADV'), ('Judah', 'NOUN'))],\n",
       " [('too', 'ADV'), (('hard', 'ADJ'), ('hard', 'ADV'))],\n",
       " [('sparked', 'VERB'), (('buying', 'VERB'), ('buying', 'NOUN'))],\n",
       " [('certain', 'ADJ'),\n",
       "  (('incentive-backed', 'ADV'), ('incentive-backed', 'ADJ'))],\n",
       " [('proved', 'VERB'), (('untrue', 'ADV'), ('untrue', 'ADJ'))],\n",
       " [('has', 'VERB'), (('promised', 'ADV'), ('promised', 'VERB'))],\n",
       " [('promised', 'VERB'), (('stiffer', 'ADV'), ('stiffer', 'ADJ'))],\n",
       " [('is', 'VERB'), (('overstated', 'ADV'), ('overstated', 'VERB'))],\n",
       " [('compound', 'NOUN'), (('yield', 'VERB'), ('yield', 'NOUN'))],\n",
       " [('funds', 'NOUN'), (('tracked', 'ADV'), ('tracked', 'VERB'))],\n",
       " [('by', 'ADP'), (('IBC', 'ADV'), ('IBC', 'NOUN'))],\n",
       " [('a', 'DET'), (('fraction', 'ADV'), ('fraction', 'NOUN'))],\n",
       " [('latest', 'ADJ'), (('compilation', 'ADV'), ('compilation', 'NOUN'))],\n",
       " [('hotel', 'NOUN'), (('accommodations', 'ADV'), ('accommodations', 'NOUN'))],\n",
       " [('not', 'ADV'), (('meals', 'ADV'), ('meals', 'NOUN'))],\n",
       " [('how', 'ADV'), (('much', 'ADV'), ('much', 'ADJ'))],\n",
       " [('*-1', 'X'), (('Funded', 'ADV'), ('Funded', 'VERB'))],\n",
       " [('from', 'ADP'), (('Tokio', 'ADV'), ('Tokio', 'NOUN'))],\n",
       " [('medical', 'ADJ'), (('protocols', 'ADV'), ('protocols', 'NOUN'))],\n",
       " [('on', 'ADP'), (('preventative', 'ADV'), ('preventative', 'ADJ'))],\n",
       " [('get', 'VERB'), (('across', 'ADP'), ('across', 'PRT'))],\n",
       " [('the', 'DET'), (('onus', 'ADV'), ('onus', 'NOUN'))],\n",
       " [('questions', 'NOUN'), (('that', 'ADP'), ('that', 'DET'))],\n",
       " [('that', 'DET'), (('*T*-107', 'ADV'), ('*T*-107', 'X'))],\n",
       " [('was', 'VERB'), (('coincidental', 'ADV'), ('coincidental', 'ADJ'))],\n",
       " [('.', '.'), (('Areas', 'ADV'), ('Areas', 'NOUN'))],\n",
       " [('particularly', 'ADV'), (('dusty', 'ADV'), ('dusty', 'ADJ'))],\n",
       " [('$', '.'), (('14.75', 'ADV'), ('14.75', 'NUM'))],\n",
       " [('$', '.'), (('3.20', 'ADV'), ('3.20', 'NUM'))],\n",
       " [('$', '.'), (('377.60', 'ADV'), ('377.60', 'NUM'))],\n",
       " [('the', 'DET'), (('most', 'ADJ'), ('most', 'ADV'))],\n",
       " [('December', 'NOUN'), (('silver', 'ADV'), ('silver', 'NOUN'))],\n",
       " [('declined', 'VERB'), (('6.50', 'ADV'), ('6.50', 'NUM'))],\n",
       " [('$', '.'), (('5.2180', 'ADV'), ('5.2180', 'NUM'))],\n",
       " [('.', '.'), (('DIAPER', 'ADV'), ('DIAPER', 'NOUN'))],\n",
       " [('DIAPER', 'NOUN'), (('SERVICES', 'ADV'), ('SERVICES', 'NOUN'))],\n",
       " [('a', 'DET'), (('comeback', 'ADV'), ('comeback', 'NOUN'))],\n",
       " [('amid', 'ADP'), (('growing', 'ADJ'), ('growing', 'VERB'))],\n",
       " [('the', 'DET'), (('delay', 'VERB'), ('delay', 'NOUN'))],\n",
       " [('would', 'VERB'), (('junk', 'NOUN'), ('junk', 'VERB'))],\n",
       " [('an', 'DET'), (('innovative', 'ADV'), ('innovative', 'ADJ'))],\n",
       " [('innovative', 'ADJ'), (('market-based', 'ADV'), ('market-based', 'ADJ'))],\n",
       " [('*', 'X'), (('trading', 'NOUN'), ('trading', 'VERB'))],\n",
       " [('among', 'ADP'), (('polluters', 'ADV'), ('polluters', 'NOUN'))],\n",
       " [('Sachs', 'NOUN'), (('estimates', 'NOUN'), ('estimates', 'VERB'))],\n",
       " [('*U*', 'X'), (('total', 'VERB'), ('total', 'NOUN'))],\n",
       " [('--', '.'), (('vs.', 'CONJ'), ('vs.', 'ADP'))],\n",
       " [('8', 'NUM'), (('%', 'NOUN'), ('%', 'ADJ'))],\n",
       " [('.', '.'), (('SHAREDATA', 'ADV'), ('SHAREDATA', 'NOUN'))],\n",
       " [('will', 'VERB'), (('amend', 'ADV'), ('amend', 'VERB'))],\n",
       " [('to', 'PRT'), (('delete', 'ADV'), ('delete', 'VERB'))],\n",
       " [('0', 'X'), (('advertising', 'VERB'), ('advertising', 'NOUN'))],\n",
       " [('record', 'NOUN'), (('corn-buying', 'ADV'), ('corn-buying', 'ADJ'))],\n",
       " [('corn-buying', 'ADJ'), (('binge', 'ADV'), ('binge', 'NOUN'))],\n",
       " [('the', 'DET'), (('Soviet', 'ADJ'), ('Soviet', 'NOUN'))],\n",
       " [('serious', 'ADJ'), (('bottlenecks', 'ADV'), ('bottlenecks', 'NOUN'))],\n",
       " [('grain', 'NOUN'), (('pipeline', 'ADV'), ('pipeline', 'NOUN'))],\n",
       " [('Bass', 'NOUN'), (('Strait', 'ADV'), ('Strait', 'NOUN'))],\n",
       " [('about', 'ADP'), (('321,000', 'ADV'), ('321,000', 'NUM'))],\n",
       " [('highly', 'ADV'), (('salable', 'ADV'), ('salable', 'ADJ'))],\n",
       " [('$', '.'), (('458', 'ADV'), ('458', 'NUM'))],\n",
       " [('--', '.'), (('in', 'ADP'), ('in', 'NOUN'))],\n",
       " [(',', '.'), (('1933', 'ADV'), ('1933', 'NUM'))],\n",
       " [(',', '.'), (('1961', 'ADV'), ('1961', 'NUM'))],\n",
       " [(',', '.'), (('1968', 'ADV'), ('1968', 'NUM'))],\n",
       " [(',', '.'), (('1971', 'ADV'), ('1971', 'NUM'))],\n",
       " [('.', '.'), (('Ketchum', 'ADV'), ('Ketchum', 'NOUN'))],\n",
       " [('acquired', 'VERB'), (('Braun', 'ADV'), ('Braun', 'NOUN'))],\n",
       " [('Angeles', 'NOUN'),\n",
       "  (('investor-relations', 'ADV'), ('investor-relations', 'NOUN'))],\n",
       " [('and', 'CONJ'),\n",
       "  (('marketing-communications', 'ADV'), ('marketing-communications', 'NOUN'))],\n",
       " [('marketing-communications', 'NOUN'), (('firm', 'ADJ'), ('firm', 'NOUN'))],\n",
       " [('.', '.'), (('Common', 'NOUN'), ('Common', 'ADJ'))],\n",
       " [('a', 'DET'), (('single-digit', 'ADV'), ('single-digit', 'ADJ'))],\n",
       " [('a', 'DET'), (('weakening', 'ADV'), ('weakening', 'NOUN'))],\n",
       " [('called', 'VERB'), (('in', 'ADP'), ('in', 'PRT'))],\n",
       " [('to', 'PRT'), (('arrest', 'ADV'), ('arrest', 'VERB'))],\n",
       " [('were', 'VERB'), (('occupying', 'ADV'), ('occupying', 'VERB'))],\n",
       " [('Mr.', 'NOUN'), (('Beall', 'ADV'), ('Beall', 'NOUN'))],\n",
       " [('is', 'VERB'), (('wrestling', 'ADV'), ('wrestling', 'VERB'))],\n",
       " [('especially', 'ADV'), (('intelligent', 'ADV'), ('intelligent', 'ADJ'))],\n",
       " [('temporarily', 'ADV'), (('insane', 'ADV'), ('insane', 'ADJ'))],\n",
       " [(',', '.'), (('India', 'ADV'), ('India', 'NOUN'))],\n",
       " [('priority', 'NOUN'), (('watch', 'VERB'), ('watch', 'NOUN'))],\n",
       " [('all', 'DET'), (('pension-fund', 'ADV'), ('pension-fund', 'ADJ'))],\n",
       " [('far', 'ADV'), (('less', 'ADJ'), ('less', 'ADV'))],\n",
       " [('Japanese', 'ADJ'), (('penetration', 'ADV'), ('penetration', 'NOUN'))],\n",
       " [('took', 'VERB'), (('further', 'ADV'), ('further', 'ADJ'))],\n",
       " [('further', 'ADJ'), (('steps', 'VERB'), ('steps', 'NOUN'))],\n",
       " [('carrier', 'NOUN'), (('so', 'ADV'), ('so', 'ADP'))],\n",
       " [('be', 'VERB'), (('impaired', 'ADV'), ('impaired', 'VERB'))],\n",
       " [('of', 'ADP'), (('airline-related', 'ADV'), ('airline-related', 'ADJ'))],\n",
       " [('an', 'DET'), (('overriding', 'ADV'), ('overriding', 'VERB'))],\n",
       " [('overriding', 'VERB'), (('public', 'ADJ'), ('public', 'NOUN'))],\n",
       " [('E.', 'NOUN'), (('Nelms', 'ADV'), ('Nelms', 'NOUN'))],\n",
       " [('and', 'CONJ'), (('chief', 'NOUN'), ('chief', 'ADJ'))],\n",
       " [('which', 'DET'), (('*T*-116', 'ADV'), ('*T*-116', 'X'))],\n",
       " [('jumped', 'VERB'), (('3.23', 'ADV'), ('3.23', 'NUM'))],\n",
       " [('to', 'PRT'), (('436.01', 'ADV'), ('436.01', 'NUM'))],\n",
       " [('index', 'NOUN'), (('3436.58', 'ADV'), ('3436.58', 'NUM'))],\n",
       " [('up', 'ADV'), (('Everyone', 'ADV'), ('Everyone', 'NOUN'))],\n",
       " [('now', 'ADV'), (('understands', 'ADV'), ('understands', 'VERB'))],\n",
       " [('utterly', 'ADV'), (('incapable', 'ADV'), ('incapable', 'ADJ'))],\n",
       " [('help', 'VERB'), (('deserving', 'ADV'), ('deserving', 'ADJ'))],\n",
       " [('some', 'DET'), (('billion-dollar', 'ADV'), ('billion-dollar', 'ADJ'))],\n",
       " [('billion-dollar', 'ADJ'), (('morass', 'ADV'), ('morass', 'NOUN'))],\n",
       " [('test-coaching', 'ADJ'), (('workbooks', 'ADV'), ('workbooks', 'NOUN'))],\n",
       " [('.', '.'), (('Gunmen', 'ADV'), ('Gunmen', 'NOUN'))],\n",
       " [('in', 'ADP'), (('Lebanon', 'ADV'), ('Lebanon', 'NOUN'))],\n",
       " [('Lebanon', 'NOUN'), (('assassinated', 'ADV'), ('assassinated', 'VERB'))],\n",
       " [('Saudi', 'NOUN'), (('Arabian', 'ADV'), ('Arabian', 'NOUN'))],\n",
       " [('the', 'DET'), (('pro-Iranian', 'ADV'), ('pro-Iranian', 'ADJ'))],\n",
       " [('pro-Iranian', 'ADJ'), (('Islamic', 'ADV'), ('Islamic', 'NOUN'))],\n",
       " [('the', 'DET'), (('slaying', 'ADV'), ('slaying', 'NOUN'))],\n",
       " [('to', 'PRT'), (('avenge', 'ADV'), ('avenge', 'VERB'))],\n",
       " [('the', 'DET'), (('beheading', 'ADV'), ('beheading', 'NOUN'))],\n",
       " [('16', 'NUM'), (('terrorists', 'ADV'), ('terrorists', 'NOUN'))],\n",
       " [('by', 'ADP'), (('Riyadh', 'ADV'), ('Riyadh', 'NOUN'))],\n",
       " [('.', '.'), (('Experts', 'ADV'), ('Experts', 'NOUN'))],\n",
       " [('mean', 'VERB'), (('as', 'ADP'), ('as', 'ADV'))],\n",
       " [('East', 'NOUN'), (('German', 'ADJ'), ('German', 'NOUN'))],\n",
       " [('leader', 'NOUN'), (('Krenz', 'ADV'), ('Krenz', 'NOUN'))],\n",
       " [('democratic', 'ADJ'), (('freedoms', 'ADV'), ('freedoms', 'NOUN'))],\n",
       " [('showing', 'VERB'), (('support', 'VERB'), ('support', 'NOUN'))],\n",
       " [('for', 'ADP'), (('socialism', 'ADV'), ('socialism', 'NOUN'))],\n",
       " [('Rep.', 'NOUN'), (('Don', 'ADV'), ('Don', 'NOUN'))],\n",
       " [('could', 'VERB'), (('stifle', 'ADV'), ('stifle', 'VERB'))],\n",
       " [('as', 'ADP'), (('long', 'ADJ'), ('long', 'ADV'))],\n",
       " [('death', 'NOUN'), (('knell', 'ADV'), ('knell', 'NOUN'))],\n",
       " [('.', '.'), (('Most', 'ADV'), ('Most', 'ADJ'))],\n",
       " [('taken', 'VERB'), (('up', 'ADV'), ('up', 'PRT'))],\n",
       " [('with', 'ADP'), (('endless', 'ADV'), ('endless', 'ADJ'))],\n",
       " [('or', 'CONJ'), (('eating', 'ADV'), ('eating', 'VERB'))],\n",
       " [('and', 'CONJ'), (('drinking', 'ADV'), ('drinking', 'VERB'))],\n",
       " [('to', 'PRT'), (('celebrate', 'ADV'), ('celebrate', 'VERB'))],\n",
       " [('.', '.'), (('Most', 'ADV'), ('Most', 'ADJ'))],\n",
       " [('by', 'ADP'), (('masters', 'ADV'), ('masters', 'NOUN'))],\n",
       " [('as', 'ADP'), (('Stieglitz', 'ADV'), ('Stieglitz', 'NOUN'))],\n",
       " [(\"'re\", 'VERB'), (('lucky', 'ADV'), ('lucky', 'ADJ'))],\n",
       " [('ringer', 'NOUN'), (('out', 'PRT'), ('out', 'ADP'))],\n",
       " [('*-1', 'X'), (('Offering', 'ADV'), ('Offering', 'VERB'))],\n",
       " [('bottle', 'NOUN'), (('wholesale', 'ADJ'), ('wholesale', 'NOUN'))],\n",
       " [('*U*', 'X'), (('retail', 'ADJ'), ('retail', 'NOUN'))],\n",
       " [(':', '.'), (('1', 'NUM'), ('1', 'X'))],\n",
       " [('-RRB-', '.'), (('no', 'DET'), ('no', 'ADV'))],\n",
       " [('2', 'NUM'), (('responses', 'ADV'), ('responses', 'NOUN'))],\n",
       " [(';', '.'), (('2', 'NUM'), ('2', 'X'))],\n",
       " [('2', 'NUM'), (('responses', 'ADV'), ('responses', 'NOUN'))],\n",
       " [(';', '.'), (('3', 'NUM'), ('3', 'X'))],\n",
       " [('58', 'NUM'), (('responses', 'ADV'), ('responses', 'NOUN'))],\n",
       " [('other', 'ADJ'), (('arrangements', 'ADV'), ('arrangements', 'NOUN'))],\n",
       " [('authorities', 'NOUN'), (('that', 'ADP'), ('that', 'DET'))],\n",
       " [('rejected', 'VERB'), (('nominee', 'ADV'), ('nominee', 'NOUN'))],\n",
       " [('*-55', 'X'), (('funding', 'NOUN'), ('funding', 'VERB'))],\n",
       " [('pay', 'VERB'), (('that', 'ADP'), ('that', 'DET'))],\n",
       " [('*-1', 'X'), (('Concerned', 'ADV'), ('Concerned', 'VERB'))],\n",
       " [('about', 'ADP'), (('shrinking', 'ADV'), ('shrinking', 'VERB'))],\n",
       " [('shrinking', 'VERB'), (('landfills', 'ADV'), ('landfills', 'NOUN'))],\n",
       " [('in', 'ADP'), (('super-absorbent', 'ADV'), ('super-absorbent', 'ADJ'))],\n",
       " [('super-absorbent', 'ADJ'),\n",
       "  (('disposables', 'ADV'), ('disposables', 'NOUN'))],\n",
       " [('East', 'NOUN'), (('bloc', 'ADV'), ('bloc', 'NOUN'))],\n",
       " [(\"'s\", 'PRT'), (('Nomenklatura', 'ADV'), ('Nomenklatura', 'NOUN'))],\n",
       " [('anything', 'NOUN'), (('change', 'NOUN'), ('change', 'VERB'))],\n",
       " [('--', '.'), (('including', 'VERB'), ('including', 'ADP'))],\n",
       " [(',', '.'), (('Greece', 'ADV'), ('Greece', 'NOUN'))],\n",
       " [('pose', 'VERB'), (('less-serious', 'ADV'), ('less-serious', 'ADJ'))],\n",
       " [('THE', 'DET'), (('WAR', 'ADV'), ('WAR', 'NOUN'))],\n",
       " [('WAR', 'NOUN'), (('OVER', 'ADV'), ('OVER', 'ADP'))],\n",
       " [('OVER', 'ADP'), (('FEDERAL', 'NOUN'), ('FEDERAL', 'ADJ'))],\n",
       " [('FEDERAL', 'ADJ'), (('JUDICIAL', 'ADV'), ('JUDICIAL', 'ADJ'))],\n",
       " [('JUDICIAL', 'ADJ'), (('SALARIES', 'ADV'), ('SALARIES', 'NOUN'))],\n",
       " [('*-25', 'X'), (('Regarded', 'ADV'), ('Regarded', 'VERB'))],\n",
       " [('.', '.'), (('Reasons', 'ADV'), ('Reasons', 'NOUN'))],\n",
       " [('the', 'DET'), (('walkout', 'ADV'), ('walkout', 'NOUN'))],\n",
       " [('of', 'ADP'), (('procedural', 'ADV'), ('procedural', 'ADJ'))],\n",
       " [('to', 'PRT'), (('strike', 'NOUN'), ('strike', 'VERB'))],\n",
       " [('effective', 'ADJ'), (('crook', 'ADV'), ('crook', 'NOUN'))],\n",
       " [('yourself', 'PRON'), (('out', 'PRT'), ('out', 'ADP'))],\n",
       " [('the', 'DET'), (('cold', 'ADJ'), ('cold', 'NOUN'))],\n",
       " [('fate', 'NOUN'), (('that', 'ADP'), ('that', 'DET'))],\n",
       " [('eventually', 'ADV'), (('befell', 'ADV'), ('befell', 'VERB'))],\n",
       " [(\"'s\", 'PRT'), (('semiliterate', 'ADV'), ('semiliterate', 'ADJ'))],\n",
       " [('$', '.'), (('492', 'ADV'), ('492', 'NUM'))],\n",
       " [('$', '.'), (('4.55', 'ADV'), ('4.55', 'NUM'))],\n",
       " [('$', '.'), (('12.97', 'ADV'), ('12.97', 'NUM'))],\n",
       " [('Issues', 'NOUN'), (('Corporate', 'NOUN'), ('Corporate', 'ADJ'))],\n",
       " [(\"n't\", 'ADV'), (('inhibit', 'ADV'), ('inhibit', 'VERB'))],\n",
       " [('.', '.'), (('Tray', 'ADV'), ('Tray', 'NOUN'))],\n",
       " [('Tray', 'NOUN'), (('Bon', 'ADV'), ('Bon', 'NOUN'))],\n",
       " [('Donald', 'NOUN'), (('Beall', 'ADV'), ('Beall', 'NOUN'))],\n",
       " [('0', 'X'), (('first-half', 'ADV'), ('first-half', 'ADJ'))],\n",
       " [('first-half', 'ADJ'), (('profit', 'VERB'), ('profit', 'NOUN'))],\n",
       " [('would', 'VERB'), (('trail', 'ADV'), ('trail', 'VERB'))],\n",
       " [('the', 'DET'), (('heavy-truck', 'ADV'), ('heavy-truck', 'NOUN'))],\n",
       " [('and', 'CONJ'), (('passenger-car', 'ADV'), ('passenger-car', 'NOUN'))],\n",
       " [('Glenn', 'NOUN'), (('Britta', 'ADV'), ('Britta', 'NOUN'))],\n",
       " [('a', 'DET'), (('25-year-old', 'ADV'), ('25-year-old', 'ADJ'))],\n",
       " [('``', '.'), (('factoring', 'ADV'), ('factoring', 'VERB'))],\n",
       " [('*', 'X'), (('deducting', 'ADV'), ('deducting', 'VERB'))],\n",
       " [('from', 'ADP'), (('gross', 'ADV'), ('gross', 'ADJ'))],\n",
       " [('drove', 'VERB'), (('up', 'ADV'), ('up', 'PRT'))],\n",
       " [('it', 'PRON'), (('enabled', 'ADV'), ('enabled', 'VERB'))],\n",
       " [('buy', 'VERB'), (('jam', 'ADV'), ('jam', 'NOUN'))],\n",
       " [(',', '.'), (('cocoa', 'ADV'), ('cocoa', 'NOUN'))],\n",
       " [('other', 'ADJ'), (('war-rationed', 'ADV'), ('war-rationed', 'ADJ'))],\n",
       " [('war-rationed', 'ADJ'), (('goodies', 'ADV'), ('goodies', 'NOUN'))],\n",
       " [('Yeargin', 'NOUN'), (('concedes', 'ADV'), ('concedes', 'VERB'))],\n",
       " [('went', 'VERB'), (('over', 'ADP'), ('over', 'ADV'))],\n",
       " [('is', 'VERB'), (('cause', 'VERB'), ('cause', 'NOUN'))]]"
      ]
     },
     "execution_count": 29,
     "metadata": {},
     "output_type": "execute_result"
    }
   ],
   "source": [
    "#Get the words in the test set which are incorrectly classified\n",
    "incorrect_tagged_cases = [[test_run_base[i-1],j] for i, j in enumerate(zip(tagged_seq, test_run_base)) if j[0]!=j[1]]\n",
    "incorrect_tagged_cases"
   ]
  },
  {
   "cell_type": "code",
   "execution_count": 30,
   "metadata": {},
   "outputs": [
    {
     "data": {
      "text/plain": [
       "[('Android', 'ADV'),\n",
       " ('is', 'VERB'),\n",
       " ('a', 'DET'),\n",
       " ('mobile', 'ADJ'),\n",
       " ('operating', 'NOUN'),\n",
       " ('system', 'NOUN'),\n",
       " ('developed', 'VERB'),\n",
       " ('by', 'ADP'),\n",
       " ('Google', 'ADV'),\n",
       " ('.', '.'),\n",
       " ('Android', 'ADV'),\n",
       " ('has', 'VERB'),\n",
       " ('been', 'VERB'),\n",
       " ('the', 'DET'),\n",
       " ('best-selling', 'ADJ'),\n",
       " ('OS', 'ADV'),\n",
       " ('worldwide', 'ADV'),\n",
       " ('on', 'ADP'),\n",
       " ('smartphones', 'ADV'),\n",
       " ('since', 'ADP'),\n",
       " ('2011', 'ADV'),\n",
       " ('and', 'CONJ'),\n",
       " ('on', 'ADP'),\n",
       " ('tablets', 'NOUN'),\n",
       " ('since', 'ADP'),\n",
       " ('2013', 'ADV'),\n",
       " ('.', '.'),\n",
       " ('Google', 'ADV'),\n",
       " ('and', 'CONJ'),\n",
       " ('Twitter', 'ADV'),\n",
       " ('made', 'VERB'),\n",
       " ('a', 'DET'),\n",
       " ('deal', 'NOUN'),\n",
       " ('in', 'ADP'),\n",
       " ('2015', 'ADV'),\n",
       " ('that', 'ADP'),\n",
       " ('gave', 'VERB'),\n",
       " ('Google', 'ADV'),\n",
       " ('access', 'NOUN'),\n",
       " ('to', 'PRT'),\n",
       " ('Twitter', 'ADV'),\n",
       " (\"'s\", 'PRT'),\n",
       " ('firehose', 'ADV'),\n",
       " ('.', '.'),\n",
       " ('Twitter', 'ADV'),\n",
       " ('is', 'VERB'),\n",
       " ('an', 'DET'),\n",
       " ('online', 'ADV'),\n",
       " ('news', 'NOUN'),\n",
       " ('and', 'CONJ'),\n",
       " ('social', 'ADJ'),\n",
       " ('networking', 'NOUN'),\n",
       " ('service', 'NOUN'),\n",
       " ('on', 'ADP'),\n",
       " ('which', 'DET'),\n",
       " ('users', 'NOUN'),\n",
       " ('post', 'NOUN'),\n",
       " ('and', 'CONJ'),\n",
       " ('interact', 'ADV'),\n",
       " ('with', 'ADP'),\n",
       " ('messages', 'ADV'),\n",
       " ('known', 'VERB'),\n",
       " ('as', 'ADP'),\n",
       " ('tweets', 'ADV'),\n",
       " ('.', '.'),\n",
       " ('Before', 'ADP'),\n",
       " ('entering', 'VERB'),\n",
       " ('politics', 'NOUN'),\n",
       " (',', '.'),\n",
       " ('Donald', 'NOUN'),\n",
       " ('Trump', 'NOUN'),\n",
       " ('was', 'VERB'),\n",
       " ('a', 'DET'),\n",
       " ('domineering', 'ADV'),\n",
       " ('businessman', 'NOUN'),\n",
       " ('and', 'CONJ'),\n",
       " ('a', 'DET'),\n",
       " ('television', 'NOUN'),\n",
       " ('personality', 'ADV'),\n",
       " ('.', '.'),\n",
       " ('The', 'DET'),\n",
       " ('2018', 'ADV'),\n",
       " ('FIFA', 'ADV'),\n",
       " ('World', 'NOUN'),\n",
       " ('Cup', 'ADV'),\n",
       " ('is', 'VERB'),\n",
       " ('the', 'DET'),\n",
       " ('21st', 'ADV'),\n",
       " ('FIFA', 'ADV'),\n",
       " ('World', 'NOUN'),\n",
       " ('Cup', 'ADV'),\n",
       " (',', '.'),\n",
       " ('an', 'DET'),\n",
       " ('international', 'ADJ'),\n",
       " ('football', 'NOUN'),\n",
       " ('tournament', 'ADV'),\n",
       " ('contested', 'ADV'),\n",
       " ('once', 'ADV'),\n",
       " ('every', 'DET'),\n",
       " ('four', 'NUM'),\n",
       " ('years', 'NOUN'),\n",
       " ('.', '.'),\n",
       " ('This', 'DET'),\n",
       " ('is', 'VERB'),\n",
       " ('the', 'DET'),\n",
       " ('first', 'ADJ'),\n",
       " ('World', 'NOUN'),\n",
       " ('Cup', 'ADV'),\n",
       " ('to', 'PRT'),\n",
       " ('be', 'VERB'),\n",
       " ('held', 'VERB'),\n",
       " ('in', 'ADP'),\n",
       " ('Eastern', 'NOUN'),\n",
       " ('Europe', 'NOUN'),\n",
       " ('and', 'CONJ'),\n",
       " ('the', 'DET'),\n",
       " ('11th', 'ADJ'),\n",
       " ('time', 'NOUN'),\n",
       " ('that', 'ADP'),\n",
       " ('it', 'PRON'),\n",
       " ('has', 'VERB'),\n",
       " ('been', 'VERB'),\n",
       " ('held', 'VERB'),\n",
       " ('in', 'ADP'),\n",
       " ('Europe', 'NOUN'),\n",
       " ('.', '.'),\n",
       " ('Show', 'NOUN'),\n",
       " ('me', 'PRON'),\n",
       " ('the', 'DET'),\n",
       " ('cheapest', 'ADJ'),\n",
       " ('round', 'NOUN'),\n",
       " ('trips', 'ADV'),\n",
       " ('from', 'ADP'),\n",
       " ('Dallas', 'NOUN'),\n",
       " ('to', 'PRT'),\n",
       " ('Atlanta', 'NOUN'),\n",
       " ('I', 'PRON'),\n",
       " ('would', 'VERB'),\n",
       " ('like', 'ADP'),\n",
       " ('to', 'PRT'),\n",
       " ('see', 'VERB'),\n",
       " ('flights', 'NOUN'),\n",
       " ('from', 'ADP'),\n",
       " ('Denver', 'NOUN'),\n",
       " ('to', 'PRT'),\n",
       " ('Philadelphia', 'NOUN'),\n",
       " ('.', '.'),\n",
       " ('Show', 'NOUN'),\n",
       " ('me', 'PRON'),\n",
       " ('the', 'DET'),\n",
       " ('price', 'NOUN'),\n",
       " ('of', 'ADP'),\n",
       " ('the', 'DET'),\n",
       " ('flights', 'NOUN'),\n",
       " ('leaving', 'VERB'),\n",
       " ('Atlanta', 'NOUN'),\n",
       " ('at', 'ADP'),\n",
       " ('about', 'ADP'),\n",
       " ('3', 'NUM'),\n",
       " ('in', 'ADP'),\n",
       " ('the', 'DET'),\n",
       " ('afternoon', 'NOUN'),\n",
       " ('and', 'CONJ'),\n",
       " ('arriving', 'ADV'),\n",
       " ('in', 'ADP'),\n",
       " ('San', 'NOUN'),\n",
       " ('Francisco', 'NOUN'),\n",
       " ('.', '.'),\n",
       " ('NASA', 'ADV'),\n",
       " ('invited', 'ADV'),\n",
       " ('social', 'ADJ'),\n",
       " ('media', 'NOUN'),\n",
       " ('users', 'NOUN'),\n",
       " ('to', 'PRT'),\n",
       " ('experience', 'NOUN'),\n",
       " ('the', 'DET'),\n",
       " ('launch', 'NOUN'),\n",
       " ('of', 'ADP'),\n",
       " ('ICESAT-2', 'ADV'),\n",
       " ('Satellite', 'ADV'),\n",
       " ('.', '.')]"
      ]
     },
     "execution_count": 30,
     "metadata": {},
     "output_type": "execute_result"
    }
   ],
   "source": [
    "sample_pred_list =[]\n",
    "for line in test_lines:\n",
    "    sample_pred_list=sample_pred_list+list(Viterbi(word_tokenize(line)))\n",
    "sample_pred_list"
   ]
  },
  {
   "cell_type": "code",
   "execution_count": 31,
   "metadata": {},
   "outputs": [],
   "source": [
    "#Get the tokens in the test file\n",
    "sample_words=[tokens for line in test_lines for tokens in word_tokenize(line)]"
   ]
  },
  {
   "cell_type": "code",
   "execution_count": 32,
   "metadata": {},
   "outputs": [
    {
     "data": {
      "text/plain": [
       "['interact',\n",
       " 'NASA',\n",
       " 'firehose',\n",
       " '21st',\n",
       " '2013',\n",
       " 'Satellite',\n",
       " 'invited',\n",
       " 'ICESAT-2',\n",
       " 'Twitter',\n",
       " 'FIFA',\n",
       " '2015',\n",
       " 'arriving',\n",
       " 'domineering',\n",
       " 'online',\n",
       " 'worldwide',\n",
       " 'personality',\n",
       " 'smartphones',\n",
       " 'Android',\n",
       " '2018',\n",
       " 'tournament',\n",
       " 'Google',\n",
       " 'trips',\n",
       " 'tweets',\n",
       " 'contested',\n",
       " '2011',\n",
       " 'OS',\n",
       " 'messages',\n",
       " 'Cup']"
      ]
     },
     "execution_count": 32,
     "metadata": {},
     "output_type": "execute_result"
    }
   ],
   "source": [
    "#Get the list of words which are present in test lines but not in the training corpus\n",
    "words_not_in_corpus = list(set(sample_words) - set(tokens))\n",
    "words_not_in_corpus"
   ]
  },
  {
   "cell_type": "code",
   "execution_count": 33,
   "metadata": {},
   "outputs": [
    {
     "data": {
      "text/plain": [
       "[('Android', 'ADV'),\n",
       " ('Google', 'ADV'),\n",
       " ('Android', 'ADV'),\n",
       " ('OS', 'ADV'),\n",
       " ('worldwide', 'ADV'),\n",
       " ('smartphones', 'ADV'),\n",
       " ('2011', 'ADV'),\n",
       " ('2013', 'ADV'),\n",
       " ('Google', 'ADV'),\n",
       " ('Twitter', 'ADV'),\n",
       " ('2015', 'ADV'),\n",
       " ('Google', 'ADV'),\n",
       " ('Twitter', 'ADV'),\n",
       " ('firehose', 'ADV'),\n",
       " ('Twitter', 'ADV'),\n",
       " ('online', 'ADV'),\n",
       " ('interact', 'ADV'),\n",
       " ('messages', 'ADV'),\n",
       " ('tweets', 'ADV'),\n",
       " ('domineering', 'ADV'),\n",
       " ('personality', 'ADV'),\n",
       " ('2018', 'ADV'),\n",
       " ('FIFA', 'ADV'),\n",
       " ('Cup', 'ADV'),\n",
       " ('21st', 'ADV'),\n",
       " ('FIFA', 'ADV'),\n",
       " ('Cup', 'ADV'),\n",
       " ('tournament', 'ADV'),\n",
       " ('contested', 'ADV'),\n",
       " ('Cup', 'ADV'),\n",
       " ('trips', 'ADV'),\n",
       " ('arriving', 'ADV'),\n",
       " ('NASA', 'ADV'),\n",
       " ('invited', 'ADV'),\n",
       " ('ICESAT-2', 'ADV'),\n",
       " ('Satellite', 'ADV')]"
      ]
     },
     "execution_count": 33,
     "metadata": {},
     "output_type": "execute_result"
    }
   ],
   "source": [
    "#Get the tags predicted for unknown words\n",
    "[tup for tup in sample_pred_list for word in words_not_in_corpus if tup[0]==word ]"
   ]
  },
  {
   "cell_type": "markdown",
   "metadata": {},
   "source": [
    "## All the words which are not present are tagged to default first tag ."
   ]
  },
  {
   "cell_type": "code",
   "execution_count": 34,
   "metadata": {},
   "outputs": [
    {
     "data": {
      "text/plain": [
       "Counter({'NOUN': 27417,\n",
       "         'NUM': 3378,\n",
       "         'VERB': 12873,\n",
       "         'PRT': 3056,\n",
       "         'DET': 8303,\n",
       "         'ADP': 9352,\n",
       "         '.': 11083,\n",
       "         'X': 6279,\n",
       "         'ADJ': 6073,\n",
       "         'ADV': 3004,\n",
       "         'CONJ': 2145,\n",
       "         'PRON': 2607})"
      ]
     },
     "execution_count": 34,
     "metadata": {},
     "output_type": "execute_result"
    }
   ],
   "source": [
    "\n",
    "#Let us see the count of all tags in the training set\n",
    "from collections import Counter\n",
    "tag_counts = Counter(pair[1] for pair in train_tagged_words)\n",
    "tag_counts"
   ]
  },
  {
   "cell_type": "code",
   "execution_count": 35,
   "metadata": {},
   "outputs": [
    {
     "data": {
      "text/plain": [
       "[('NOUN', 27417), ('VERB', 12873), ('.', 11083), ('ADP', 9352), ('DET', 8303)]"
      ]
     },
     "execution_count": 35,
     "metadata": {},
     "output_type": "execute_result"
    }
   ],
   "source": [
    "# see most common tags can in the training corpus\n",
    "tag_counts.most_common(5)"
   ]
  },
  {
   "cell_type": "code",
   "execution_count": 36,
   "metadata": {},
   "outputs": [
    {
     "data": {
      "text/plain": [
       "Counter({'ADV': 413,\n",
       "         'ADJ': 31,\n",
       "         'VERB': 29,\n",
       "         'CONJ': 4,\n",
       "         'ADP': 19,\n",
       "         'NOUN': 32,\n",
       "         'PRT': 10,\n",
       "         'DET': 2,\n",
       "         'NUM': 3})"
      ]
     },
     "execution_count": 36,
     "metadata": {},
     "output_type": "execute_result"
    }
   ],
   "source": [
    "#Lets see count of incorrectly classfied words for each tag\n",
    "wrong_tag_counts = Counter(pair[1][0][1] for pair in incorrect_tagged_cases)\n",
    "wrong_tag_counts"
   ]
  },
  {
   "cell_type": "code",
   "execution_count": 37,
   "metadata": {},
   "outputs": [
    {
     "name": "stdout",
     "output_type": "stream",
     "text": [
      "0.20686708614930474\n"
     ]
    },
    {
     "data": {
      "text/plain": [
       "[('weighed', 'VERB'),\n",
       " ('created', 'VERB'),\n",
       " ('connected', 'VERB'),\n",
       " ('viewed', 'VERB'),\n",
       " ('proposed', 'VERB'),\n",
       " ('stopped', 'VERB'),\n",
       " ('totaled', 'VERB'),\n",
       " ('empowered', 'VERB'),\n",
       " ('owned', 'VERB'),\n",
       " ('alleged', 'VERB'),\n",
       " ('engaged', 'VERB'),\n",
       " ('valued', 'VERB'),\n",
       " ('included', 'VERB'),\n",
       " ('showed', 'VERB'),\n",
       " ('launched', 'VERB'),\n",
       " ('designed', 'VERB'),\n",
       " ('overpriced', 'VERB'),\n",
       " ('assisted', 'VERB'),\n",
       " ('claimed', 'VERB'),\n",
       " ('needed', 'VERB')]"
      ]
     },
     "execution_count": 37,
     "metadata": {},
     "output_type": "execute_result"
    }
   ],
   "source": [
    "\n",
    "# Let us see the percentage of verbs which are classifed as 'verb which end with 'ed'\n",
    "verbs = [pair for pair in train_tagged_words if pair[1]=='VERB']\n",
    "ed_verbs = [pair for pair in verbs if pair[0].endswith('ed')]\n",
    "print(len(ed_verbs) / len(verbs))\n",
    "ed_verbs[:20]"
   ]
  },
  {
   "cell_type": "markdown",
   "metadata": {},
   "source": [
    "#### 20 % of the verbs contain 'ed' words."
   ]
  },
  {
   "cell_type": "code",
   "execution_count": 38,
   "metadata": {},
   "outputs": [
    {
     "name": "stdout",
     "output_type": "stream",
     "text": [
      "0.10821098423056008\n"
     ]
    },
    {
     "data": {
      "text/plain": [
       "[('reciting', 'VERB'),\n",
       " ('According', 'VERB'),\n",
       " ('resulting', 'VERB'),\n",
       " ('living', 'VERB'),\n",
       " ('growing', 'VERB'),\n",
       " ('paying', 'VERB'),\n",
       " ('including', 'VERB'),\n",
       " ('sounding', 'VERB'),\n",
       " ('working', 'VERB'),\n",
       " ('continuing', 'VERB'),\n",
       " ('extending', 'VERB'),\n",
       " ('drawing', 'VERB'),\n",
       " ('bring', 'VERB'),\n",
       " ('bringing', 'VERB'),\n",
       " ('surviving', 'VERB'),\n",
       " ('including', 'VERB'),\n",
       " ('advertising', 'VERB'),\n",
       " ('leveling', 'VERB'),\n",
       " ('inviting', 'VERB'),\n",
       " ('telling', 'VERB')]"
      ]
     },
     "execution_count": 38,
     "metadata": {},
     "output_type": "execute_result"
    }
   ],
   "source": [
    "# Let us see the percentage of verbs which are classifed as 'verb which end with 'ing'\n",
    "verbs = [pair for pair in train_tagged_words if pair[1]=='VERB']\n",
    "ing_verbs = [pair for pair in verbs if pair[0].endswith('ing')]\n",
    "print(len(ing_verbs) / len(verbs))\n",
    "ing_verbs[:20]"
   ]
  },
  {
   "cell_type": "markdown",
   "metadata": {},
   "source": [
    "#### 10 % of verbs contain 'ing' ords"
   ]
  },
  {
   "cell_type": "code",
   "execution_count": 39,
   "metadata": {},
   "outputs": [
    {
     "name": "stdout",
     "output_type": "stream",
     "text": [
      "6073\n",
      "4242\n",
      "0.6985015643010044\n"
     ]
    }
   ],
   "source": [
    "#Lets see percentage of Adjective tags followed by nouns\n",
    "# create a list of all tags (without the words)\n",
    "tags = [pair[1] for pair in train_tagged_words]\n",
    "\n",
    "# create a list of Adj tags\n",
    "adj_tags = [t for t in tags if t == 'ADJ']\n",
    "\n",
    "# create a list of (ADJ, Noun) tags\n",
    "adj_noun_tags = [(t, tags[index+1]) for index, t in enumerate(tags) \n",
    "              if t=='ADJ' and tags[index+1]=='NOUN']\n",
    "\n",
    "print(len(adj_tags))\n",
    "print(len(adj_noun_tags))\n",
    "print(len(adj_noun_tags) / len(adj_tags))"
   ]
  },
  {
   "cell_type": "markdown",
   "metadata": {},
   "source": [
    "#### As we can see above 70 % of ADJ are followed by nouns"
   ]
  },
  {
   "cell_type": "code",
   "execution_count": 40,
   "metadata": {},
   "outputs": [
    {
     "name": "stdout",
     "output_type": "stream",
     "text": [
      "8303\n",
      "5290\n",
      "0.6371191135734072\n"
     ]
    }
   ],
   "source": [
    "\n",
    "#Lets see percentage of Determinent tags followed by nouns\n",
    "dt_tags = [t for t in tags if t == 'DET']\n",
    "dt_noun_tags = [(t, tags[index+1]) for index, t in enumerate(tags) \n",
    "              if t=='DET' and tags[index+1]=='NOUN']\n",
    "\n",
    "print(len(dt_tags))\n",
    "print(len(dt_noun_tags))\n",
    "print(len(dt_noun_tags) / len(dt_tags))"
   ]
  },
  {
   "cell_type": "markdown",
   "metadata": {},
   "source": [
    "#### 63% of DETs are followed by NOUNs"
   ]
  },
  {
   "cell_type": "code",
   "execution_count": 41,
   "metadata": {},
   "outputs": [
    {
     "name": "stdout",
     "output_type": "stream",
     "text": [
      "3004\n",
      "1044\n",
      "0.34753661784287615\n"
     ]
    }
   ],
   "source": [
    "#Lets see percentage of Adverbs tags followed by Verbs\n",
    "adv_tags = [t for t in tags if t == 'ADV']\n",
    "adv_vb_tags = [(t, tags[index+1]) for index, t in enumerate(tags) \n",
    "              if t=='ADV' and tags[index+1]=='VERB']\n",
    "\n",
    "print(len(adv_tags))\n",
    "print(len(adv_vb_tags))\n",
    "print(len(adv_vb_tags) / len(adv_tags))"
   ]
  },
  {
   "cell_type": "markdown",
   "metadata": {},
   "source": [
    "#### 34% of ADV are followed by VERBs"
   ]
  },
  {
   "cell_type": "code",
   "execution_count": 42,
   "metadata": {},
   "outputs": [],
   "source": [
    "# specify patterns for tagging\n",
    "patterns = [\n",
    "    (r'.*ing$', 'VERB'),              # gerund\n",
    "    (r'.*ed$', 'VERB'),               # past tense verbs\n",
    "    (r'.*es$', 'VERB'),               # singular present verbs\n",
    "    (r'.*ould$', 'VERB'),              # modal verbs\n",
    "    (r'.*\\'s$', 'NOUN'),              # possessive nouns\n",
    "    (r'.*s$', 'NOUN'),                # plural nouns\n",
    "    (r'^-?[0-9]+(.[0-9]+)?$', 'NUM'), # cardinal numbers\n",
    "    (r'(The|the|A|a|An|an)$', 'DET'),   # articles or determinants\n",
    "    (r'.*able$', 'ADJ'),                # adjectives\n",
    "    (r'.*ness$', 'NOUN'),                # nouns formed from adjectives\n",
    "    (r'.*ly$', 'ADV'),                  # adverbs\n",
    "    (r'.*', 'NOUN')                    # nouns\n",
    "]"
   ]
  },
  {
   "cell_type": "code",
   "execution_count": 43,
   "metadata": {},
   "outputs": [
    {
     "data": {
      "text/plain": [
       "0.9461417939678809"
      ]
     },
     "execution_count": 43,
     "metadata": {},
     "output_type": "execute_result"
    }
   ],
   "source": [
    "# rule based tagger\n",
    "rule_based_tagger = nltk.RegexpTagger(patterns)\n",
    "\n",
    "# lexicon backed up by the rule-based tagger\n",
    "lexicon_tagger = nltk.UnigramTagger(train_set, backoff=rule_based_tagger)\n",
    "\n",
    "lexicon_tagger.evaluate(test_set)"
   ]
  },
  {
   "cell_type": "markdown",
   "metadata": {},
   "source": [
    "### UnigramTagger backed by rule based tagger gives accuracy of 94%."
   ]
  },
  {
   "cell_type": "markdown",
   "metadata": {},
   "source": [
    "#### Evaluating tagging accuracy"
   ]
  },
  {
   "cell_type": "code",
   "execution_count": 44,
   "metadata": {},
   "outputs": [],
   "source": [
    "\n",
    "#Trigram tagger backed by Bigram backed by Unigram which is backed by rule based tagger\n",
    "t0 = nltk.RegexpTagger(patterns)\n",
    "t1 = nltk.UnigramTagger(train_set, backoff=t0)\n",
    "t2 = nltk.BigramTagger(train_set, backoff=t1)\n",
    "t3 = nltk.TrigramTagger(train_set, backoff=t2)"
   ]
  },
  {
   "cell_type": "code",
   "execution_count": 45,
   "metadata": {},
   "outputs": [],
   "source": [
    "#Import libraries for brill\n",
    "import nltk.tag\n",
    "from nltk.tag import brill\n",
    "from nltk.tag.brill import *\n",
    "from nltk.tbl.template import Template\n",
    "from nltk.tag import BrillTaggerTrainer\n",
    "\n",
    "#Clear existing templates if any\n",
    "Template._cleartemplates()\n",
    "\n",
    "#Load the fntbl37 template\n",
    "templates = fntbl37()\n",
    " \n",
    "#Train the Brill model\n",
    "trainer = BrillTaggerTrainer(t3, templates)\n",
    "brill_tagger = trainer.train(train_set, max_rules=100, min_score=3)"
   ]
  },
  {
   "cell_type": "markdown",
   "metadata": {},
   "source": [
    "##### The state probabilities for unknown words become zero and hence the Viterbi algorithm updates the unknown words by default with the first tag in the training set.\n",
    "\n",
    "##### Now lets modify the Viterbi algorithm such that when the state probabilities become zero it updates the tag based on the tagger we created above"
   ]
  },
  {
   "cell_type": "code",
   "execution_count": 46,
   "metadata": {},
   "outputs": [],
   "source": [
    "# Viterbi Heuristic\n",
    "def Viterbi_updated(words, train_bag = train_tagged_words):\n",
    "    state = []\n",
    "    T = list(set([pair[1] for pair in train_bag]))\n",
    "    \n",
    "    for key, word in enumerate(words):\n",
    "        #initialise list of probability column for a given observation\n",
    "        p = [] \n",
    "        for tag in T:\n",
    "            if key == 0:\n",
    "                transition_p = tags_df.loc['.', tag]\n",
    "            else:\n",
    "                transition_p = tags_df.loc[state[-1], tag]\n",
    "                \n",
    "            # compute emission and state probabilities\n",
    "            emission_p = word_given_tag(words[key], tag)[0]/word_given_tag(words[key], tag)[1]\n",
    "            state_probability = emission_p * transition_p    \n",
    "            p.append(state_probability)\n",
    "            \n",
    "        pmax = max(p)\n",
    "       \n",
    "        #Check if state probability is zero\n",
    "        if(pmax==0.0):\n",
    "            #If state probability is zero i.e if the word is unknown if updates the tag based on the brill tagger\n",
    "            state_max = brill_tagger.tag([word])[0][1]\n",
    "        else:\n",
    "            # getting state for which probability is maximum\n",
    "            state_max = T[p.index(pmax)] \n",
    "        state.append(state_max)\n",
    "    return list(zip(words, state))"
   ]
  },
  {
   "cell_type": "markdown",
   "metadata": {},
   "source": [
    "### Compare the tagging accuracies of the modifications with the vanilla Viterbi algorithm"
   ]
  },
  {
   "cell_type": "code",
   "execution_count": 47,
   "metadata": {},
   "outputs": [
    {
     "name": "stdout",
     "output_type": "stream",
     "text": [
      "1386.721263885498\n"
     ]
    }
   ],
   "source": [
    "# tagging the test sentences with the updated Viterbi algorithm\n",
    "start = time.time()\n",
    "updated_tagged_seq = Viterbi_updated(test_tagged_words)\n",
    "end = time.time()\n",
    "difference = end-start\n",
    "#Print total time taken to train the algorithm\n",
    "print(difference)"
   ]
  },
  {
   "cell_type": "code",
   "execution_count": 48,
   "metadata": {},
   "outputs": [
    {
     "data": {
      "text/plain": [
       "0.9482961222091657"
      ]
     },
     "execution_count": 48,
     "metadata": {},
     "output_type": "execute_result"
    }
   ],
   "source": [
    "\n",
    "# Calculate the accuracy for the updated Viterbi algorithm\n",
    "check = [i for i, j in zip(updated_tagged_seq, test_run_base) if i == j] \n",
    "accuracy = len(check)/len(updated_tagged_seq)\n",
    "accuracy"
   ]
  },
  {
   "cell_type": "markdown",
   "metadata": {},
   "source": [
    "### Accuracy has increased considerably on Vanilla Viterbi algorithm."
   ]
  },
  {
   "cell_type": "markdown",
   "metadata": {},
   "source": [
    "### List down cases which were incorrectly tagged by original POS tagger and got corrected by your modifications"
   ]
  },
  {
   "cell_type": "code",
   "execution_count": 49,
   "metadata": {},
   "outputs": [
    {
     "name": "stdout",
     "output_type": "stream",
     "text": [
      "[('Android', 'ADV'), ('is', 'VERB'), ('a', 'DET'), ('mobile', 'ADJ'), ('operating', 'NOUN'), ('system', 'NOUN'), ('developed', 'VERB'), ('by', 'ADP'), ('Google', 'ADV'), ('.', '.')]\n",
      "[('Android', 'ADV'), ('has', 'VERB'), ('been', 'VERB'), ('the', 'DET'), ('best-selling', 'ADJ'), ('OS', 'ADV'), ('worldwide', 'ADV'), ('on', 'ADP'), ('smartphones', 'ADV'), ('since', 'ADP'), ('2011', 'ADV'), ('and', 'CONJ'), ('on', 'ADP'), ('tablets', 'NOUN'), ('since', 'ADP'), ('2013', 'ADV'), ('.', '.')]\n",
      "[('Google', 'ADV'), ('and', 'CONJ'), ('Twitter', 'ADV'), ('made', 'VERB'), ('a', 'DET'), ('deal', 'NOUN'), ('in', 'ADP'), ('2015', 'ADV'), ('that', 'ADP'), ('gave', 'VERB'), ('Google', 'ADV'), ('access', 'NOUN'), ('to', 'PRT'), ('Twitter', 'ADV'), (\"'s\", 'PRT'), ('firehose', 'ADV'), ('.', '.')]\n",
      "[('Twitter', 'ADV'), ('is', 'VERB'), ('an', 'DET'), ('online', 'ADV'), ('news', 'NOUN'), ('and', 'CONJ'), ('social', 'ADJ'), ('networking', 'NOUN'), ('service', 'NOUN'), ('on', 'ADP'), ('which', 'DET'), ('users', 'NOUN'), ('post', 'NOUN'), ('and', 'CONJ'), ('interact', 'ADV'), ('with', 'ADP'), ('messages', 'ADV'), ('known', 'VERB'), ('as', 'ADP'), ('tweets', 'ADV'), ('.', '.')]\n",
      "[('Before', 'ADP'), ('entering', 'VERB'), ('politics', 'NOUN'), (',', '.'), ('Donald', 'NOUN'), ('Trump', 'NOUN'), ('was', 'VERB'), ('a', 'DET'), ('domineering', 'ADV'), ('businessman', 'NOUN'), ('and', 'CONJ'), ('a', 'DET'), ('television', 'NOUN'), ('personality', 'ADV'), ('.', '.')]\n",
      "[('The', 'DET'), ('2018', 'ADV'), ('FIFA', 'ADV'), ('World', 'NOUN'), ('Cup', 'ADV'), ('is', 'VERB'), ('the', 'DET'), ('21st', 'ADV'), ('FIFA', 'ADV'), ('World', 'NOUN'), ('Cup', 'ADV'), (',', '.'), ('an', 'DET'), ('international', 'ADJ'), ('football', 'NOUN'), ('tournament', 'ADV'), ('contested', 'ADV'), ('once', 'ADV'), ('every', 'DET'), ('four', 'NUM'), ('years', 'NOUN'), ('.', '.')]\n",
      "[('This', 'DET'), ('is', 'VERB'), ('the', 'DET'), ('first', 'ADJ'), ('World', 'NOUN'), ('Cup', 'ADV'), ('to', 'PRT'), ('be', 'VERB'), ('held', 'VERB'), ('in', 'ADP'), ('Eastern', 'NOUN'), ('Europe', 'NOUN'), ('and', 'CONJ'), ('the', 'DET'), ('11th', 'ADJ'), ('time', 'NOUN'), ('that', 'ADP'), ('it', 'PRON'), ('has', 'VERB'), ('been', 'VERB'), ('held', 'VERB'), ('in', 'ADP'), ('Europe', 'NOUN'), ('.', '.')]\n",
      "[('Show', 'NOUN'), ('me', 'PRON'), ('the', 'DET'), ('cheapest', 'ADJ'), ('round', 'NOUN'), ('trips', 'ADV'), ('from', 'ADP'), ('Dallas', 'NOUN'), ('to', 'PRT'), ('Atlanta', 'NOUN')]\n",
      "[('I', 'PRON'), ('would', 'VERB'), ('like', 'ADP'), ('to', 'PRT'), ('see', 'VERB'), ('flights', 'NOUN'), ('from', 'ADP'), ('Denver', 'NOUN'), ('to', 'PRT'), ('Philadelphia', 'NOUN'), ('.', '.')]\n",
      "[('Show', 'NOUN'), ('me', 'PRON'), ('the', 'DET'), ('price', 'NOUN'), ('of', 'ADP'), ('the', 'DET'), ('flights', 'NOUN'), ('leaving', 'VERB'), ('Atlanta', 'NOUN'), ('at', 'ADP'), ('about', 'ADP'), ('3', 'NUM'), ('in', 'ADP'), ('the', 'DET'), ('afternoon', 'NOUN'), ('and', 'CONJ'), ('arriving', 'ADV'), ('in', 'ADP'), ('San', 'NOUN'), ('Francisco', 'NOUN'), ('.', '.')]\n",
      "[('NASA', 'ADV'), ('invited', 'ADV'), ('social', 'ADJ'), ('media', 'NOUN'), ('users', 'NOUN'), ('to', 'PRT'), ('experience', 'NOUN'), ('the', 'DET'), ('launch', 'NOUN'), ('of', 'ADP'), ('ICESAT-2', 'ADV'), ('Satellite', 'ADV'), ('.', '.')]\n"
     ]
    }
   ],
   "source": [
    "#Let us print the test lines with the initial Viterbi algorithm\n",
    "for line in test_lines:\n",
    "    print(list(Viterbi(word_tokenize(line))))"
   ]
  },
  {
   "cell_type": "code",
   "execution_count": 50,
   "metadata": {},
   "outputs": [
    {
     "name": "stdout",
     "output_type": "stream",
     "text": [
      "[('Android', 'NOUN'), ('is', 'VERB'), ('a', 'DET'), ('mobile', 'ADJ'), ('operating', 'NOUN'), ('system', 'NOUN'), ('developed', 'VERB'), ('by', 'ADP'), ('Google', 'NOUN'), ('.', '.')]\n",
      "[('Android', 'NOUN'), ('has', 'VERB'), ('been', 'VERB'), ('the', 'DET'), ('best-selling', 'ADJ'), ('OS', 'NOUN'), ('worldwide', 'NOUN'), ('on', 'ADP'), ('smartphones', 'VERB'), ('since', 'ADP'), ('2011', 'NUM'), ('and', 'CONJ'), ('on', 'ADP'), ('tablets', 'NOUN'), ('since', 'ADP'), ('2013', 'NUM'), ('.', '.')]\n",
      "[('Google', 'NOUN'), ('and', 'CONJ'), ('Twitter', 'NOUN'), ('made', 'VERB'), ('a', 'DET'), ('deal', 'NOUN'), ('in', 'ADP'), ('2015', 'NUM'), ('that', 'ADP'), ('gave', 'VERB'), ('Google', 'NOUN'), ('access', 'NOUN'), ('to', 'PRT'), ('Twitter', 'NOUN'), (\"'s\", 'PRT'), ('firehose', 'NOUN'), ('.', '.')]\n",
      "[('Twitter', 'NOUN'), ('is', 'VERB'), ('an', 'DET'), ('online', 'NOUN'), ('news', 'NOUN'), ('and', 'CONJ'), ('social', 'ADJ'), ('networking', 'NOUN'), ('service', 'NOUN'), ('on', 'ADP'), ('which', 'DET'), ('users', 'NOUN'), ('post', 'NOUN'), ('and', 'CONJ'), ('interact', 'NOUN'), ('with', 'ADP'), ('messages', 'VERB'), ('known', 'VERB'), ('as', 'ADP'), ('tweets', 'NOUN'), ('.', '.')]\n",
      "[('Before', 'ADP'), ('entering', 'VERB'), ('politics', 'NOUN'), (',', '.'), ('Donald', 'NOUN'), ('Trump', 'NOUN'), ('was', 'VERB'), ('a', 'DET'), ('domineering', 'VERB'), ('businessman', 'NOUN'), ('and', 'CONJ'), ('a', 'DET'), ('television', 'NOUN'), ('personality', 'NOUN'), ('.', '.')]\n",
      "[('The', 'DET'), ('2018', 'NUM'), ('FIFA', 'NOUN'), ('World', 'NOUN'), ('Cup', 'NOUN'), ('is', 'VERB'), ('the', 'DET'), ('21st', 'NOUN'), ('FIFA', 'NOUN'), ('World', 'NOUN'), ('Cup', 'NOUN'), (',', '.'), ('an', 'DET'), ('international', 'ADJ'), ('football', 'NOUN'), ('tournament', 'NOUN'), ('contested', 'VERB'), ('once', 'ADV'), ('every', 'DET'), ('four', 'NUM'), ('years', 'NOUN'), ('.', '.')]\n",
      "[('This', 'DET'), ('is', 'VERB'), ('the', 'DET'), ('first', 'ADJ'), ('World', 'NOUN'), ('Cup', 'NOUN'), ('to', 'PRT'), ('be', 'VERB'), ('held', 'VERB'), ('in', 'ADP'), ('Eastern', 'NOUN'), ('Europe', 'NOUN'), ('and', 'CONJ'), ('the', 'DET'), ('11th', 'ADJ'), ('time', 'NOUN'), ('that', 'ADP'), ('it', 'PRON'), ('has', 'VERB'), ('been', 'VERB'), ('held', 'VERB'), ('in', 'ADP'), ('Europe', 'NOUN'), ('.', '.')]\n",
      "[('Show', 'NOUN'), ('me', 'PRON'), ('the', 'DET'), ('cheapest', 'ADJ'), ('round', 'NOUN'), ('trips', 'NOUN'), ('from', 'ADP'), ('Dallas', 'NOUN'), ('to', 'PRT'), ('Atlanta', 'NOUN')]\n",
      "[('I', 'PRON'), ('would', 'VERB'), ('like', 'ADP'), ('to', 'PRT'), ('see', 'VERB'), ('flights', 'NOUN'), ('from', 'ADP'), ('Denver', 'NOUN'), ('to', 'PRT'), ('Philadelphia', 'NOUN'), ('.', '.')]\n",
      "[('Show', 'NOUN'), ('me', 'PRON'), ('the', 'DET'), ('price', 'NOUN'), ('of', 'ADP'), ('the', 'DET'), ('flights', 'NOUN'), ('leaving', 'VERB'), ('Atlanta', 'NOUN'), ('at', 'ADP'), ('about', 'ADP'), ('3', 'NUM'), ('in', 'ADP'), ('the', 'DET'), ('afternoon', 'NOUN'), ('and', 'CONJ'), ('arriving', 'VERB'), ('in', 'ADP'), ('San', 'NOUN'), ('Francisco', 'NOUN'), ('.', '.')]\n",
      "[('NASA', 'NOUN'), ('invited', 'VERB'), ('social', 'ADJ'), ('media', 'NOUN'), ('users', 'NOUN'), ('to', 'PRT'), ('experience', 'NOUN'), ('the', 'DET'), ('launch', 'NOUN'), ('of', 'ADP'), ('ICESAT-2', 'NOUN'), ('Satellite', 'NOUN'), ('.', '.')]\n"
     ]
    }
   ],
   "source": [
    "\n",
    "#Let us print the test lines with the updated Viterbi algorithm\n",
    "for line in test_lines:\n",
    "    print(list(Viterbi_updated(word_tokenize(line))))"
   ]
  },
  {
   "cell_type": "markdown",
   "metadata": {},
   "source": [
    "##### Cases: \n",
    "##### 1.Android ,Twitterand Google the unknown words which were tagged as default are correctly tagged as NOUNs.\n",
    "##### 2.2011,2013,2015,2018 were tagged as default before which are correctly tagged as NUMs.\n",
    "##### 3.'Contested' , 'invited' were identified as default later got correctly dentfied as 'VERB'\n",
    "##### 4. 'NASA' , 'ICESAT-2' ,'Satellite' were correctly identified as NOUNs.\n",
    "##### 5.FIFA,Cup,Tournament which were identified as default are identified as NOUNs..\n"
   ]
  },
  {
   "cell_type": "code",
   "execution_count": 51,
   "metadata": {},
   "outputs": [],
   "source": [
    "# Viterbi Heuristic\n",
    "def Viterbi_updated2(words, train_bag = train_tagged_words):\n",
    "    state = []\n",
    "    T = list(set([pair[1] for pair in train_bag]))\n",
    "    \n",
    "    for key, word in enumerate(words):\n",
    "        #initialise list of probability column for a given observation\n",
    "        p = [] \n",
    "        for tag in T:\n",
    "            if key == 0:\n",
    "                transition_p = tags_df.loc['.', tag]\n",
    "            else:\n",
    "                transition_p = tags_df.loc[state[-1], tag]\n",
    "                \n",
    "            # compute emission and state probabilities\n",
    "            emission_p = word_given_tag(words[key], tag)[0]/word_given_tag(words[key], tag)[1]\n",
    "            state_probability = emission_p * transition_p    \n",
    "            p.append(state_probability)\n",
    "            \n",
    "        pmax = max(p)\n",
    "       \n",
    "        #Check if state probability is zero\n",
    "        if(pmax<0.001):\n",
    "            #If state probability is zero i.e if the word is unknown if updates the tag based on the brill tagger\n",
    "            state_max = brill_tagger.tag([word])[0][1]\n",
    "        else:\n",
    "            # getting state for which probability is maximum\n",
    "            state_max = T[p.index(pmax)] \n",
    "        state.append(state_max)\n",
    "    return list(zip(words, state))"
   ]
  },
  {
   "cell_type": "code",
   "execution_count": 52,
   "metadata": {},
   "outputs": [
    {
     "name": "stdout",
     "output_type": "stream",
     "text": [
      "1413.8155689239502\n"
     ]
    }
   ],
   "source": [
    "# tagging the test sentences with the updated Viterbi algorithm\n",
    "start = time.time()\n",
    "updated_tagged_seq = Viterbi_updated2(test_tagged_words)\n",
    "end = time.time()\n",
    "difference = end-start\n",
    "#Print total time taken to train the algorithm\n",
    "print(difference)"
   ]
  },
  {
   "cell_type": "code",
   "execution_count": 53,
   "metadata": {},
   "outputs": [
    {
     "data": {
      "text/plain": [
       "0.9449667058362711"
      ]
     },
     "execution_count": 53,
     "metadata": {},
     "output_type": "execute_result"
    }
   ],
   "source": [
    "# Calculate the accuracy for the updated Viterbi algorithm\n",
    "check = [i for i, j in zip(updated_tagged_seq, test_run_base) if i == j] \n",
    "accuracy = len(check)/len(updated_tagged_seq)\n",
    "accuracy"
   ]
  },
  {
   "cell_type": "markdown",
   "metadata": {},
   "source": []
  }
 ],
 "metadata": {
  "kernelspec": {
   "display_name": "Python 3",
   "language": "python",
   "name": "python3"
  },
  "language_info": {
   "codemirror_mode": {
    "name": "ipython",
    "version": 3
   },
   "file_extension": ".py",
   "mimetype": "text/x-python",
   "name": "python",
   "nbconvert_exporter": "python",
   "pygments_lexer": "ipython3",
   "version": "3.7.4"
  }
 },
 "nbformat": 4,
 "nbformat_minor": 2
}
